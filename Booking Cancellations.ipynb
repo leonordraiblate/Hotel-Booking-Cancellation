{
 "cells": [
  {
   "cell_type": "markdown",
   "id": "ab0263dc",
   "metadata": {},
   "source": [
    "# DATA CLEANING AND ANALYSIS"
   ]
  },
  {
   "cell_type": "code",
   "execution_count": 2,
   "id": "509a1e36",
   "metadata": {},
   "outputs": [
    {
     "data": {
      "text/html": [
       "<div>\n",
       "<style scoped>\n",
       "    .dataframe tbody tr th:only-of-type {\n",
       "        vertical-align: middle;\n",
       "    }\n",
       "\n",
       "    .dataframe tbody tr th {\n",
       "        vertical-align: top;\n",
       "    }\n",
       "\n",
       "    .dataframe thead th {\n",
       "        text-align: right;\n",
       "    }\n",
       "</style>\n",
       "<table border=\"1\" class=\"dataframe\">\n",
       "  <thead>\n",
       "    <tr style=\"text-align: right;\">\n",
       "      <th></th>\n",
       "      <th>hotel</th>\n",
       "      <th>is_canceled</th>\n",
       "      <th>lead_time</th>\n",
       "      <th>arrival_date_year</th>\n",
       "      <th>arrival_date_month</th>\n",
       "      <th>arrival_date_week_number</th>\n",
       "      <th>arrival_date_day_of_month</th>\n",
       "      <th>stays_in_weekend_nights</th>\n",
       "      <th>stays_in_week_nights</th>\n",
       "      <th>adults</th>\n",
       "      <th>...</th>\n",
       "      <th>deposit_type</th>\n",
       "      <th>agent</th>\n",
       "      <th>company</th>\n",
       "      <th>days_in_waiting_list</th>\n",
       "      <th>customer_type</th>\n",
       "      <th>adr</th>\n",
       "      <th>required_car_parking_spaces</th>\n",
       "      <th>total_of_special_requests</th>\n",
       "      <th>reservation_status</th>\n",
       "      <th>reservation_status_date</th>\n",
       "    </tr>\n",
       "  </thead>\n",
       "  <tbody>\n",
       "    <tr>\n",
       "      <th>0</th>\n",
       "      <td>Resort Hotel</td>\n",
       "      <td>0</td>\n",
       "      <td>342</td>\n",
       "      <td>2015</td>\n",
       "      <td>July</td>\n",
       "      <td>27</td>\n",
       "      <td>1</td>\n",
       "      <td>0</td>\n",
       "      <td>0</td>\n",
       "      <td>2</td>\n",
       "      <td>...</td>\n",
       "      <td>No Deposit</td>\n",
       "      <td>NaN</td>\n",
       "      <td>NaN</td>\n",
       "      <td>0</td>\n",
       "      <td>Transient</td>\n",
       "      <td>0.0</td>\n",
       "      <td>0</td>\n",
       "      <td>0</td>\n",
       "      <td>Check-Out</td>\n",
       "      <td>2015-07-01</td>\n",
       "    </tr>\n",
       "    <tr>\n",
       "      <th>1</th>\n",
       "      <td>Resort Hotel</td>\n",
       "      <td>0</td>\n",
       "      <td>737</td>\n",
       "      <td>2015</td>\n",
       "      <td>July</td>\n",
       "      <td>27</td>\n",
       "      <td>1</td>\n",
       "      <td>0</td>\n",
       "      <td>0</td>\n",
       "      <td>2</td>\n",
       "      <td>...</td>\n",
       "      <td>No Deposit</td>\n",
       "      <td>NaN</td>\n",
       "      <td>NaN</td>\n",
       "      <td>0</td>\n",
       "      <td>Transient</td>\n",
       "      <td>0.0</td>\n",
       "      <td>0</td>\n",
       "      <td>0</td>\n",
       "      <td>Check-Out</td>\n",
       "      <td>2015-07-01</td>\n",
       "    </tr>\n",
       "    <tr>\n",
       "      <th>2</th>\n",
       "      <td>Resort Hotel</td>\n",
       "      <td>0</td>\n",
       "      <td>7</td>\n",
       "      <td>2015</td>\n",
       "      <td>July</td>\n",
       "      <td>27</td>\n",
       "      <td>1</td>\n",
       "      <td>0</td>\n",
       "      <td>1</td>\n",
       "      <td>1</td>\n",
       "      <td>...</td>\n",
       "      <td>No Deposit</td>\n",
       "      <td>NaN</td>\n",
       "      <td>NaN</td>\n",
       "      <td>0</td>\n",
       "      <td>Transient</td>\n",
       "      <td>75.0</td>\n",
       "      <td>0</td>\n",
       "      <td>0</td>\n",
       "      <td>Check-Out</td>\n",
       "      <td>2015-07-02</td>\n",
       "    </tr>\n",
       "    <tr>\n",
       "      <th>3</th>\n",
       "      <td>Resort Hotel</td>\n",
       "      <td>0</td>\n",
       "      <td>13</td>\n",
       "      <td>2015</td>\n",
       "      <td>July</td>\n",
       "      <td>27</td>\n",
       "      <td>1</td>\n",
       "      <td>0</td>\n",
       "      <td>1</td>\n",
       "      <td>1</td>\n",
       "      <td>...</td>\n",
       "      <td>No Deposit</td>\n",
       "      <td>304.0</td>\n",
       "      <td>NaN</td>\n",
       "      <td>0</td>\n",
       "      <td>Transient</td>\n",
       "      <td>75.0</td>\n",
       "      <td>0</td>\n",
       "      <td>0</td>\n",
       "      <td>Check-Out</td>\n",
       "      <td>2015-07-02</td>\n",
       "    </tr>\n",
       "    <tr>\n",
       "      <th>4</th>\n",
       "      <td>Resort Hotel</td>\n",
       "      <td>0</td>\n",
       "      <td>14</td>\n",
       "      <td>2015</td>\n",
       "      <td>July</td>\n",
       "      <td>27</td>\n",
       "      <td>1</td>\n",
       "      <td>0</td>\n",
       "      <td>2</td>\n",
       "      <td>2</td>\n",
       "      <td>...</td>\n",
       "      <td>No Deposit</td>\n",
       "      <td>240.0</td>\n",
       "      <td>NaN</td>\n",
       "      <td>0</td>\n",
       "      <td>Transient</td>\n",
       "      <td>98.0</td>\n",
       "      <td>0</td>\n",
       "      <td>1</td>\n",
       "      <td>Check-Out</td>\n",
       "      <td>2015-07-03</td>\n",
       "    </tr>\n",
       "  </tbody>\n",
       "</table>\n",
       "<p>5 rows × 32 columns</p>\n",
       "</div>"
      ],
      "text/plain": [
       "          hotel  is_canceled  lead_time  arrival_date_year arrival_date_month  \\\n",
       "0  Resort Hotel            0        342               2015               July   \n",
       "1  Resort Hotel            0        737               2015               July   \n",
       "2  Resort Hotel            0          7               2015               July   \n",
       "3  Resort Hotel            0         13               2015               July   \n",
       "4  Resort Hotel            0         14               2015               July   \n",
       "\n",
       "   arrival_date_week_number  arrival_date_day_of_month  \\\n",
       "0                        27                          1   \n",
       "1                        27                          1   \n",
       "2                        27                          1   \n",
       "3                        27                          1   \n",
       "4                        27                          1   \n",
       "\n",
       "   stays_in_weekend_nights  stays_in_week_nights  adults  ...  deposit_type  \\\n",
       "0                        0                     0       2  ...    No Deposit   \n",
       "1                        0                     0       2  ...    No Deposit   \n",
       "2                        0                     1       1  ...    No Deposit   \n",
       "3                        0                     1       1  ...    No Deposit   \n",
       "4                        0                     2       2  ...    No Deposit   \n",
       "\n",
       "   agent company days_in_waiting_list customer_type   adr  \\\n",
       "0    NaN     NaN                    0     Transient   0.0   \n",
       "1    NaN     NaN                    0     Transient   0.0   \n",
       "2    NaN     NaN                    0     Transient  75.0   \n",
       "3  304.0     NaN                    0     Transient  75.0   \n",
       "4  240.0     NaN                    0     Transient  98.0   \n",
       "\n",
       "   required_car_parking_spaces  total_of_special_requests  reservation_status  \\\n",
       "0                            0                          0           Check-Out   \n",
       "1                            0                          0           Check-Out   \n",
       "2                            0                          0           Check-Out   \n",
       "3                            0                          0           Check-Out   \n",
       "4                            0                          1           Check-Out   \n",
       "\n",
       "  reservation_status_date  \n",
       "0              2015-07-01  \n",
       "1              2015-07-01  \n",
       "2              2015-07-02  \n",
       "3              2015-07-02  \n",
       "4              2015-07-03  \n",
       "\n",
       "[5 rows x 32 columns]"
      ]
     },
     "execution_count": 2,
     "metadata": {},
     "output_type": "execute_result"
    }
   ],
   "source": [
    "data = pd.read_csv(\"hotel_bookings.csv\")\n",
    "data.head()"
   ]
  },
  {
   "cell_type": "code",
   "execution_count": 3,
   "id": "f2101686",
   "metadata": {},
   "outputs": [
    {
     "data": {
      "text/plain": [
       "hotel                              object\n",
       "is_canceled                         int64\n",
       "lead_time                           int64\n",
       "arrival_date_year                   int64\n",
       "arrival_date_month                 object\n",
       "arrival_date_week_number            int64\n",
       "arrival_date_day_of_month           int64\n",
       "stays_in_weekend_nights             int64\n",
       "stays_in_week_nights                int64\n",
       "adults                              int64\n",
       "children                          float64\n",
       "babies                              int64\n",
       "meal                               object\n",
       "country                            object\n",
       "market_segment                     object\n",
       "distribution_channel               object\n",
       "is_repeated_guest                   int64\n",
       "previous_cancellations              int64\n",
       "previous_bookings_not_canceled      int64\n",
       "reserved_room_type                 object\n",
       "assigned_room_type                 object\n",
       "booking_changes                     int64\n",
       "deposit_type                       object\n",
       "agent                             float64\n",
       "company                           float64\n",
       "days_in_waiting_list                int64\n",
       "customer_type                      object\n",
       "adr                               float64\n",
       "required_car_parking_spaces         int64\n",
       "total_of_special_requests           int64\n",
       "reservation_status                 object\n",
       "reservation_status_date            object\n",
       "dtype: object"
      ]
     },
     "execution_count": 3,
     "metadata": {},
     "output_type": "execute_result"
    }
   ],
   "source": [
    "data.dtypes"
   ]
  },
  {
   "cell_type": "code",
   "execution_count": 4,
   "id": "5c80fc7e",
   "metadata": {},
   "outputs": [],
   "source": [
    "#drop non-interesting columns\n",
    "data = pd.read_csv(\"hotel_bookings.csv\")\n",
    "data.drop(columns=[\"market_segment\",\"distribution_channel\",\"agent\",\"company\",\"customer_type\",\"adr\",\"required_car_parking_spaces\",\"reservation_status\",\"reservation_status_date\"],inplace=True)"
   ]
  },
  {
   "cell_type": "markdown",
   "id": "1272ea31",
   "metadata": {},
   "source": [
    "Loyal Customer"
   ]
  },
  {
   "cell_type": "code",
   "execution_count": 5,
   "id": "968ca407",
   "metadata": {
    "scrolled": true
   },
   "outputs": [
    {
     "data": {
      "text/plain": [
       "0    115580\n",
       "1      3810\n",
       "Name: is_repeated_guest, dtype: int64"
      ]
     },
     "execution_count": 5,
     "metadata": {},
     "output_type": "execute_result"
    }
   ],
   "source": [
    "data[\"is_repeated_guest\"].value_counts()"
   ]
  },
  {
   "cell_type": "code",
   "execution_count": 6,
   "id": "b4b3fd10",
   "metadata": {},
   "outputs": [],
   "source": [
    "#need to check first if is a previous customer\n",
    "#data[\"customer_loyalty\"]=0\n",
    "#def loyalty_cust(row):\n",
    "    #if (row[\"previous_cancellations\"]== 0) and (row[\"previous_bookings_not_canceled\"]== 0):\n",
    "        #return \"First booking\"\n",
    "    #else:\n",
    "        #return \"Loyal customer\"\n",
    "\n",
    "#data[\"customer_loyalty\"]=data.apply(loyalty_cust, axis=1)\n",
    "#data[\"customer_loyalty\"].value_counts()"
   ]
  },
  {
   "cell_type": "code",
   "execution_count": 7,
   "id": "6e858502",
   "metadata": {},
   "outputs": [
    {
     "data": {
      "text/plain": [
       "0    115580\n",
       "1      3810\n",
       "Name: is_repeated_guest, dtype: int64"
      ]
     },
     "execution_count": 7,
     "metadata": {},
     "output_type": "execute_result"
    }
   ],
   "source": [
    "data[\"is_repeated_guest\"].value_counts()"
   ]
  },
  {
   "cell_type": "code",
   "execution_count": 8,
   "id": "6d4d129f",
   "metadata": {},
   "outputs": [
    {
     "data": {
      "text/html": [
       "<div>\n",
       "<style scoped>\n",
       "    .dataframe tbody tr th:only-of-type {\n",
       "        vertical-align: middle;\n",
       "    }\n",
       "\n",
       "    .dataframe tbody tr th {\n",
       "        vertical-align: top;\n",
       "    }\n",
       "\n",
       "    .dataframe thead th {\n",
       "        text-align: right;\n",
       "    }\n",
       "</style>\n",
       "<table border=\"1\" class=\"dataframe\">\n",
       "  <thead>\n",
       "    <tr style=\"text-align: right;\">\n",
       "      <th></th>\n",
       "      <th>hotel</th>\n",
       "      <th>is_canceled</th>\n",
       "      <th>lead_time</th>\n",
       "      <th>arrival_date_year</th>\n",
       "      <th>arrival_date_month</th>\n",
       "      <th>arrival_date_week_number</th>\n",
       "      <th>arrival_date_day_of_month</th>\n",
       "      <th>stays_in_weekend_nights</th>\n",
       "      <th>stays_in_week_nights</th>\n",
       "      <th>adults</th>\n",
       "      <th>...</th>\n",
       "      <th>country</th>\n",
       "      <th>is_repeated_guest</th>\n",
       "      <th>previous_cancellations</th>\n",
       "      <th>previous_bookings_not_canceled</th>\n",
       "      <th>reserved_room_type</th>\n",
       "      <th>assigned_room_type</th>\n",
       "      <th>booking_changes</th>\n",
       "      <th>deposit_type</th>\n",
       "      <th>days_in_waiting_list</th>\n",
       "      <th>total_of_special_requests</th>\n",
       "    </tr>\n",
       "  </thead>\n",
       "  <tbody>\n",
       "    <tr>\n",
       "      <th>15446</th>\n",
       "      <td>Resort Hotel</td>\n",
       "      <td>0</td>\n",
       "      <td>0</td>\n",
       "      <td>2015</td>\n",
       "      <td>July</td>\n",
       "      <td>29</td>\n",
       "      <td>17</td>\n",
       "      <td>0</td>\n",
       "      <td>1</td>\n",
       "      <td>2</td>\n",
       "      <td>...</td>\n",
       "      <td>PRT</td>\n",
       "      <td>1</td>\n",
       "      <td>0</td>\n",
       "      <td>0</td>\n",
       "      <td>A</td>\n",
       "      <td>A</td>\n",
       "      <td>2</td>\n",
       "      <td>No Deposit</td>\n",
       "      <td>0</td>\n",
       "      <td>0</td>\n",
       "    </tr>\n",
       "    <tr>\n",
       "      <th>15797</th>\n",
       "      <td>Resort Hotel</td>\n",
       "      <td>0</td>\n",
       "      <td>1</td>\n",
       "      <td>2015</td>\n",
       "      <td>August</td>\n",
       "      <td>32</td>\n",
       "      <td>3</td>\n",
       "      <td>0</td>\n",
       "      <td>0</td>\n",
       "      <td>2</td>\n",
       "      <td>...</td>\n",
       "      <td>PRT</td>\n",
       "      <td>1</td>\n",
       "      <td>0</td>\n",
       "      <td>0</td>\n",
       "      <td>A</td>\n",
       "      <td>I</td>\n",
       "      <td>1</td>\n",
       "      <td>No Deposit</td>\n",
       "      <td>0</td>\n",
       "      <td>1</td>\n",
       "    </tr>\n",
       "    <tr>\n",
       "      <th>16366</th>\n",
       "      <td>Resort Hotel</td>\n",
       "      <td>1</td>\n",
       "      <td>0</td>\n",
       "      <td>2015</td>\n",
       "      <td>August</td>\n",
       "      <td>35</td>\n",
       "      <td>26</td>\n",
       "      <td>0</td>\n",
       "      <td>1</td>\n",
       "      <td>2</td>\n",
       "      <td>...</td>\n",
       "      <td>PRT</td>\n",
       "      <td>1</td>\n",
       "      <td>0</td>\n",
       "      <td>0</td>\n",
       "      <td>C</td>\n",
       "      <td>C</td>\n",
       "      <td>0</td>\n",
       "      <td>No Deposit</td>\n",
       "      <td>0</td>\n",
       "      <td>0</td>\n",
       "    </tr>\n",
       "    <tr>\n",
       "      <th>16375</th>\n",
       "      <td>Resort Hotel</td>\n",
       "      <td>0</td>\n",
       "      <td>0</td>\n",
       "      <td>2015</td>\n",
       "      <td>August</td>\n",
       "      <td>35</td>\n",
       "      <td>27</td>\n",
       "      <td>0</td>\n",
       "      <td>0</td>\n",
       "      <td>3</td>\n",
       "      <td>...</td>\n",
       "      <td>PRT</td>\n",
       "      <td>1</td>\n",
       "      <td>0</td>\n",
       "      <td>0</td>\n",
       "      <td>A</td>\n",
       "      <td>I</td>\n",
       "      <td>0</td>\n",
       "      <td>No Deposit</td>\n",
       "      <td>0</td>\n",
       "      <td>0</td>\n",
       "    </tr>\n",
       "    <tr>\n",
       "      <th>16517</th>\n",
       "      <td>Resort Hotel</td>\n",
       "      <td>0</td>\n",
       "      <td>0</td>\n",
       "      <td>2016</td>\n",
       "      <td>October</td>\n",
       "      <td>45</td>\n",
       "      <td>30</td>\n",
       "      <td>1</td>\n",
       "      <td>0</td>\n",
       "      <td>2</td>\n",
       "      <td>...</td>\n",
       "      <td>PRT</td>\n",
       "      <td>1</td>\n",
       "      <td>0</td>\n",
       "      <td>0</td>\n",
       "      <td>A</td>\n",
       "      <td>A</td>\n",
       "      <td>0</td>\n",
       "      <td>No Deposit</td>\n",
       "      <td>0</td>\n",
       "      <td>3</td>\n",
       "    </tr>\n",
       "    <tr>\n",
       "      <th>...</th>\n",
       "      <td>...</td>\n",
       "      <td>...</td>\n",
       "      <td>...</td>\n",
       "      <td>...</td>\n",
       "      <td>...</td>\n",
       "      <td>...</td>\n",
       "      <td>...</td>\n",
       "      <td>...</td>\n",
       "      <td>...</td>\n",
       "      <td>...</td>\n",
       "      <td>...</td>\n",
       "      <td>...</td>\n",
       "      <td>...</td>\n",
       "      <td>...</td>\n",
       "      <td>...</td>\n",
       "      <td>...</td>\n",
       "      <td>...</td>\n",
       "      <td>...</td>\n",
       "      <td>...</td>\n",
       "      <td>...</td>\n",
       "      <td>...</td>\n",
       "    </tr>\n",
       "    <tr>\n",
       "      <th>117295</th>\n",
       "      <td>City Hotel</td>\n",
       "      <td>1</td>\n",
       "      <td>0</td>\n",
       "      <td>2017</td>\n",
       "      <td>August</td>\n",
       "      <td>31</td>\n",
       "      <td>2</td>\n",
       "      <td>0</td>\n",
       "      <td>2</td>\n",
       "      <td>1</td>\n",
       "      <td>...</td>\n",
       "      <td>PRT</td>\n",
       "      <td>1</td>\n",
       "      <td>0</td>\n",
       "      <td>0</td>\n",
       "      <td>A</td>\n",
       "      <td>C</td>\n",
       "      <td>0</td>\n",
       "      <td>No Deposit</td>\n",
       "      <td>0</td>\n",
       "      <td>1</td>\n",
       "    </tr>\n",
       "    <tr>\n",
       "      <th>117701</th>\n",
       "      <td>City Hotel</td>\n",
       "      <td>0</td>\n",
       "      <td>0</td>\n",
       "      <td>2017</td>\n",
       "      <td>August</td>\n",
       "      <td>32</td>\n",
       "      <td>8</td>\n",
       "      <td>0</td>\n",
       "      <td>0</td>\n",
       "      <td>2</td>\n",
       "      <td>...</td>\n",
       "      <td>PRT</td>\n",
       "      <td>1</td>\n",
       "      <td>0</td>\n",
       "      <td>0</td>\n",
       "      <td>A</td>\n",
       "      <td>A</td>\n",
       "      <td>0</td>\n",
       "      <td>No Deposit</td>\n",
       "      <td>0</td>\n",
       "      <td>0</td>\n",
       "    </tr>\n",
       "    <tr>\n",
       "      <th>117961</th>\n",
       "      <td>City Hotel</td>\n",
       "      <td>0</td>\n",
       "      <td>0</td>\n",
       "      <td>2017</td>\n",
       "      <td>August</td>\n",
       "      <td>32</td>\n",
       "      <td>12</td>\n",
       "      <td>0</td>\n",
       "      <td>1</td>\n",
       "      <td>2</td>\n",
       "      <td>...</td>\n",
       "      <td>FRA</td>\n",
       "      <td>1</td>\n",
       "      <td>0</td>\n",
       "      <td>0</td>\n",
       "      <td>D</td>\n",
       "      <td>D</td>\n",
       "      <td>1</td>\n",
       "      <td>No Deposit</td>\n",
       "      <td>0</td>\n",
       "      <td>2</td>\n",
       "    </tr>\n",
       "    <tr>\n",
       "      <th>118029</th>\n",
       "      <td>City Hotel</td>\n",
       "      <td>0</td>\n",
       "      <td>0</td>\n",
       "      <td>2017</td>\n",
       "      <td>August</td>\n",
       "      <td>33</td>\n",
       "      <td>14</td>\n",
       "      <td>0</td>\n",
       "      <td>0</td>\n",
       "      <td>2</td>\n",
       "      <td>...</td>\n",
       "      <td>PRT</td>\n",
       "      <td>1</td>\n",
       "      <td>0</td>\n",
       "      <td>0</td>\n",
       "      <td>A</td>\n",
       "      <td>A</td>\n",
       "      <td>0</td>\n",
       "      <td>No Deposit</td>\n",
       "      <td>0</td>\n",
       "      <td>0</td>\n",
       "    </tr>\n",
       "    <tr>\n",
       "      <th>119070</th>\n",
       "      <td>City Hotel</td>\n",
       "      <td>0</td>\n",
       "      <td>0</td>\n",
       "      <td>2017</td>\n",
       "      <td>August</td>\n",
       "      <td>35</td>\n",
       "      <td>29</td>\n",
       "      <td>0</td>\n",
       "      <td>1</td>\n",
       "      <td>2</td>\n",
       "      <td>...</td>\n",
       "      <td>GBR</td>\n",
       "      <td>1</td>\n",
       "      <td>0</td>\n",
       "      <td>0</td>\n",
       "      <td>G</td>\n",
       "      <td>G</td>\n",
       "      <td>3</td>\n",
       "      <td>No Deposit</td>\n",
       "      <td>0</td>\n",
       "      <td>1</td>\n",
       "    </tr>\n",
       "  </tbody>\n",
       "</table>\n",
       "<p>590 rows × 23 columns</p>\n",
       "</div>"
      ],
      "text/plain": [
       "               hotel  is_canceled  lead_time  arrival_date_year  \\\n",
       "15446   Resort Hotel            0          0               2015   \n",
       "15797   Resort Hotel            0          1               2015   \n",
       "16366   Resort Hotel            1          0               2015   \n",
       "16375   Resort Hotel            0          0               2015   \n",
       "16517   Resort Hotel            0          0               2016   \n",
       "...              ...          ...        ...                ...   \n",
       "117295    City Hotel            1          0               2017   \n",
       "117701    City Hotel            0          0               2017   \n",
       "117961    City Hotel            0          0               2017   \n",
       "118029    City Hotel            0          0               2017   \n",
       "119070    City Hotel            0          0               2017   \n",
       "\n",
       "       arrival_date_month  arrival_date_week_number  \\\n",
       "15446                July                        29   \n",
       "15797              August                        32   \n",
       "16366              August                        35   \n",
       "16375              August                        35   \n",
       "16517             October                        45   \n",
       "...                   ...                       ...   \n",
       "117295             August                        31   \n",
       "117701             August                        32   \n",
       "117961             August                        32   \n",
       "118029             August                        33   \n",
       "119070             August                        35   \n",
       "\n",
       "        arrival_date_day_of_month  stays_in_weekend_nights  \\\n",
       "15446                          17                        0   \n",
       "15797                           3                        0   \n",
       "16366                          26                        0   \n",
       "16375                          27                        0   \n",
       "16517                          30                        1   \n",
       "...                           ...                      ...   \n",
       "117295                          2                        0   \n",
       "117701                          8                        0   \n",
       "117961                         12                        0   \n",
       "118029                         14                        0   \n",
       "119070                         29                        0   \n",
       "\n",
       "        stays_in_week_nights  adults  ...  country  is_repeated_guest  \\\n",
       "15446                      1       2  ...      PRT                  1   \n",
       "15797                      0       2  ...      PRT                  1   \n",
       "16366                      1       2  ...      PRT                  1   \n",
       "16375                      0       3  ...      PRT                  1   \n",
       "16517                      0       2  ...      PRT                  1   \n",
       "...                      ...     ...  ...      ...                ...   \n",
       "117295                     2       1  ...      PRT                  1   \n",
       "117701                     0       2  ...      PRT                  1   \n",
       "117961                     1       2  ...      FRA                  1   \n",
       "118029                     0       2  ...      PRT                  1   \n",
       "119070                     1       2  ...      GBR                  1   \n",
       "\n",
       "       previous_cancellations previous_bookings_not_canceled  \\\n",
       "15446                       0                              0   \n",
       "15797                       0                              0   \n",
       "16366                       0                              0   \n",
       "16375                       0                              0   \n",
       "16517                       0                              0   \n",
       "...                       ...                            ...   \n",
       "117295                      0                              0   \n",
       "117701                      0                              0   \n",
       "117961                      0                              0   \n",
       "118029                      0                              0   \n",
       "119070                      0                              0   \n",
       "\n",
       "        reserved_room_type  assigned_room_type  booking_changes deposit_type  \\\n",
       "15446                    A                   A                2   No Deposit   \n",
       "15797                    A                   I                1   No Deposit   \n",
       "16366                    C                   C                0   No Deposit   \n",
       "16375                    A                   I                0   No Deposit   \n",
       "16517                    A                   A                0   No Deposit   \n",
       "...                    ...                 ...              ...          ...   \n",
       "117295                   A                   C                0   No Deposit   \n",
       "117701                   A                   A                0   No Deposit   \n",
       "117961                   D                   D                1   No Deposit   \n",
       "118029                   A                   A                0   No Deposit   \n",
       "119070                   G                   G                3   No Deposit   \n",
       "\n",
       "       days_in_waiting_list  total_of_special_requests  \n",
       "15446                     0                          0  \n",
       "15797                     0                          1  \n",
       "16366                     0                          0  \n",
       "16375                     0                          0  \n",
       "16517                     0                          3  \n",
       "...                     ...                        ...  \n",
       "117295                    0                          1  \n",
       "117701                    0                          0  \n",
       "117961                    0                          2  \n",
       "118029                    0                          0  \n",
       "119070                    0                          1  \n",
       "\n",
       "[590 rows x 23 columns]"
      ]
     },
     "execution_count": 8,
     "metadata": {},
     "output_type": "execute_result"
    }
   ],
   "source": [
    "data[(data[\"is_repeated_guest\"]== 1)&(data[\"previous_cancellations\"] == 0)&(data[\"previous_bookings_not_canceled\"] == 0)]"
   ]
  },
  {
   "cell_type": "code",
   "execution_count": 9,
   "id": "801c225f",
   "metadata": {},
   "outputs": [
    {
     "data": {
      "text/plain": [
       "0     112906\n",
       "1       6051\n",
       "2        116\n",
       "3         65\n",
       "24        48\n",
       "11        35\n",
       "4         31\n",
       "26        26\n",
       "25        25\n",
       "6         22\n",
       "19        19\n",
       "5         19\n",
       "14        14\n",
       "13        12\n",
       "21         1\n",
       "Name: previous_cancellations, dtype: int64"
      ]
     },
     "execution_count": 9,
     "metadata": {},
     "output_type": "execute_result"
    }
   ],
   "source": [
    "data[\"previous_cancellations\"].value_counts()"
   ]
  },
  {
   "cell_type": "code",
   "execution_count": 10,
   "id": "1fcdf0c0",
   "metadata": {},
   "outputs": [
    {
     "data": {
      "text/plain": [
       "0     115770\n",
       "1       1542\n",
       "2        580\n",
       "3        333\n",
       "4        229\n",
       "       ...  \n",
       "47         1\n",
       "49         1\n",
       "50         1\n",
       "51         1\n",
       "72         1\n",
       "Name: previous_bookings_not_canceled, Length: 73, dtype: int64"
      ]
     },
     "execution_count": 10,
     "metadata": {},
     "output_type": "execute_result"
    }
   ],
   "source": [
    "data[\"previous_bookings_not_canceled\"].value_counts()"
   ]
  },
  {
   "cell_type": "code",
   "execution_count": 11,
   "id": "8db9950c",
   "metadata": {},
   "outputs": [],
   "source": [
    "condition = (data[\"is_repeated_guest\"]== 1) & (data[\"previous_cancellations\"] == 0) & (data[\"previous_bookings_not_canceled\"] == 0)\n",
    "\n",
    "# Identify the indices of the rows that satisfy the conditions\n",
    "indices_to_drop = data[condition].index\n",
    "\n",
    "# Drop the rows using the indices\n",
    "data.drop(indices_to_drop, inplace=True)"
   ]
  },
  {
   "cell_type": "code",
   "execution_count": 12,
   "id": "d10ada14",
   "metadata": {},
   "outputs": [
    {
     "data": {
      "text/html": [
       "<div>\n",
       "<style scoped>\n",
       "    .dataframe tbody tr th:only-of-type {\n",
       "        vertical-align: middle;\n",
       "    }\n",
       "\n",
       "    .dataframe tbody tr th {\n",
       "        vertical-align: top;\n",
       "    }\n",
       "\n",
       "    .dataframe thead th {\n",
       "        text-align: right;\n",
       "    }\n",
       "</style>\n",
       "<table border=\"1\" class=\"dataframe\">\n",
       "  <thead>\n",
       "    <tr style=\"text-align: right;\">\n",
       "      <th></th>\n",
       "      <th>hotel</th>\n",
       "      <th>is_canceled</th>\n",
       "      <th>lead_time</th>\n",
       "      <th>arrival_date_year</th>\n",
       "      <th>arrival_date_month</th>\n",
       "      <th>arrival_date_week_number</th>\n",
       "      <th>arrival_date_day_of_month</th>\n",
       "      <th>stays_in_weekend_nights</th>\n",
       "      <th>stays_in_week_nights</th>\n",
       "      <th>adults</th>\n",
       "      <th>...</th>\n",
       "      <th>is_repeated_guest</th>\n",
       "      <th>previous_cancellations</th>\n",
       "      <th>previous_bookings_not_canceled</th>\n",
       "      <th>reserved_room_type</th>\n",
       "      <th>assigned_room_type</th>\n",
       "      <th>booking_changes</th>\n",
       "      <th>deposit_type</th>\n",
       "      <th>days_in_waiting_list</th>\n",
       "      <th>total_of_special_requests</th>\n",
       "      <th>percentage_previous_cancelations</th>\n",
       "    </tr>\n",
       "  </thead>\n",
       "  <tbody>\n",
       "    <tr>\n",
       "      <th>0</th>\n",
       "      <td>Resort Hotel</td>\n",
       "      <td>0</td>\n",
       "      <td>342</td>\n",
       "      <td>2015</td>\n",
       "      <td>July</td>\n",
       "      <td>27</td>\n",
       "      <td>1</td>\n",
       "      <td>0</td>\n",
       "      <td>0</td>\n",
       "      <td>2</td>\n",
       "      <td>...</td>\n",
       "      <td>0</td>\n",
       "      <td>0</td>\n",
       "      <td>0</td>\n",
       "      <td>C</td>\n",
       "      <td>C</td>\n",
       "      <td>3</td>\n",
       "      <td>No Deposit</td>\n",
       "      <td>0</td>\n",
       "      <td>0</td>\n",
       "      <td>NaN</td>\n",
       "    </tr>\n",
       "    <tr>\n",
       "      <th>1</th>\n",
       "      <td>Resort Hotel</td>\n",
       "      <td>0</td>\n",
       "      <td>737</td>\n",
       "      <td>2015</td>\n",
       "      <td>July</td>\n",
       "      <td>27</td>\n",
       "      <td>1</td>\n",
       "      <td>0</td>\n",
       "      <td>0</td>\n",
       "      <td>2</td>\n",
       "      <td>...</td>\n",
       "      <td>0</td>\n",
       "      <td>0</td>\n",
       "      <td>0</td>\n",
       "      <td>C</td>\n",
       "      <td>C</td>\n",
       "      <td>4</td>\n",
       "      <td>No Deposit</td>\n",
       "      <td>0</td>\n",
       "      <td>0</td>\n",
       "      <td>NaN</td>\n",
       "    </tr>\n",
       "    <tr>\n",
       "      <th>2</th>\n",
       "      <td>Resort Hotel</td>\n",
       "      <td>0</td>\n",
       "      <td>7</td>\n",
       "      <td>2015</td>\n",
       "      <td>July</td>\n",
       "      <td>27</td>\n",
       "      <td>1</td>\n",
       "      <td>0</td>\n",
       "      <td>1</td>\n",
       "      <td>1</td>\n",
       "      <td>...</td>\n",
       "      <td>0</td>\n",
       "      <td>0</td>\n",
       "      <td>0</td>\n",
       "      <td>A</td>\n",
       "      <td>C</td>\n",
       "      <td>0</td>\n",
       "      <td>No Deposit</td>\n",
       "      <td>0</td>\n",
       "      <td>0</td>\n",
       "      <td>NaN</td>\n",
       "    </tr>\n",
       "    <tr>\n",
       "      <th>3</th>\n",
       "      <td>Resort Hotel</td>\n",
       "      <td>0</td>\n",
       "      <td>13</td>\n",
       "      <td>2015</td>\n",
       "      <td>July</td>\n",
       "      <td>27</td>\n",
       "      <td>1</td>\n",
       "      <td>0</td>\n",
       "      <td>1</td>\n",
       "      <td>1</td>\n",
       "      <td>...</td>\n",
       "      <td>0</td>\n",
       "      <td>0</td>\n",
       "      <td>0</td>\n",
       "      <td>A</td>\n",
       "      <td>A</td>\n",
       "      <td>0</td>\n",
       "      <td>No Deposit</td>\n",
       "      <td>0</td>\n",
       "      <td>0</td>\n",
       "      <td>NaN</td>\n",
       "    </tr>\n",
       "    <tr>\n",
       "      <th>4</th>\n",
       "      <td>Resort Hotel</td>\n",
       "      <td>0</td>\n",
       "      <td>14</td>\n",
       "      <td>2015</td>\n",
       "      <td>July</td>\n",
       "      <td>27</td>\n",
       "      <td>1</td>\n",
       "      <td>0</td>\n",
       "      <td>2</td>\n",
       "      <td>2</td>\n",
       "      <td>...</td>\n",
       "      <td>0</td>\n",
       "      <td>0</td>\n",
       "      <td>0</td>\n",
       "      <td>A</td>\n",
       "      <td>A</td>\n",
       "      <td>0</td>\n",
       "      <td>No Deposit</td>\n",
       "      <td>0</td>\n",
       "      <td>1</td>\n",
       "      <td>NaN</td>\n",
       "    </tr>\n",
       "    <tr>\n",
       "      <th>...</th>\n",
       "      <td>...</td>\n",
       "      <td>...</td>\n",
       "      <td>...</td>\n",
       "      <td>...</td>\n",
       "      <td>...</td>\n",
       "      <td>...</td>\n",
       "      <td>...</td>\n",
       "      <td>...</td>\n",
       "      <td>...</td>\n",
       "      <td>...</td>\n",
       "      <td>...</td>\n",
       "      <td>...</td>\n",
       "      <td>...</td>\n",
       "      <td>...</td>\n",
       "      <td>...</td>\n",
       "      <td>...</td>\n",
       "      <td>...</td>\n",
       "      <td>...</td>\n",
       "      <td>...</td>\n",
       "      <td>...</td>\n",
       "      <td>...</td>\n",
       "    </tr>\n",
       "    <tr>\n",
       "      <th>119385</th>\n",
       "      <td>City Hotel</td>\n",
       "      <td>0</td>\n",
       "      <td>23</td>\n",
       "      <td>2017</td>\n",
       "      <td>August</td>\n",
       "      <td>35</td>\n",
       "      <td>30</td>\n",
       "      <td>2</td>\n",
       "      <td>5</td>\n",
       "      <td>2</td>\n",
       "      <td>...</td>\n",
       "      <td>0</td>\n",
       "      <td>0</td>\n",
       "      <td>0</td>\n",
       "      <td>A</td>\n",
       "      <td>A</td>\n",
       "      <td>0</td>\n",
       "      <td>No Deposit</td>\n",
       "      <td>0</td>\n",
       "      <td>0</td>\n",
       "      <td>NaN</td>\n",
       "    </tr>\n",
       "    <tr>\n",
       "      <th>119386</th>\n",
       "      <td>City Hotel</td>\n",
       "      <td>0</td>\n",
       "      <td>102</td>\n",
       "      <td>2017</td>\n",
       "      <td>August</td>\n",
       "      <td>35</td>\n",
       "      <td>31</td>\n",
       "      <td>2</td>\n",
       "      <td>5</td>\n",
       "      <td>3</td>\n",
       "      <td>...</td>\n",
       "      <td>0</td>\n",
       "      <td>0</td>\n",
       "      <td>0</td>\n",
       "      <td>E</td>\n",
       "      <td>E</td>\n",
       "      <td>0</td>\n",
       "      <td>No Deposit</td>\n",
       "      <td>0</td>\n",
       "      <td>2</td>\n",
       "      <td>NaN</td>\n",
       "    </tr>\n",
       "    <tr>\n",
       "      <th>119387</th>\n",
       "      <td>City Hotel</td>\n",
       "      <td>0</td>\n",
       "      <td>34</td>\n",
       "      <td>2017</td>\n",
       "      <td>August</td>\n",
       "      <td>35</td>\n",
       "      <td>31</td>\n",
       "      <td>2</td>\n",
       "      <td>5</td>\n",
       "      <td>2</td>\n",
       "      <td>...</td>\n",
       "      <td>0</td>\n",
       "      <td>0</td>\n",
       "      <td>0</td>\n",
       "      <td>D</td>\n",
       "      <td>D</td>\n",
       "      <td>0</td>\n",
       "      <td>No Deposit</td>\n",
       "      <td>0</td>\n",
       "      <td>4</td>\n",
       "      <td>NaN</td>\n",
       "    </tr>\n",
       "    <tr>\n",
       "      <th>119388</th>\n",
       "      <td>City Hotel</td>\n",
       "      <td>0</td>\n",
       "      <td>109</td>\n",
       "      <td>2017</td>\n",
       "      <td>August</td>\n",
       "      <td>35</td>\n",
       "      <td>31</td>\n",
       "      <td>2</td>\n",
       "      <td>5</td>\n",
       "      <td>2</td>\n",
       "      <td>...</td>\n",
       "      <td>0</td>\n",
       "      <td>0</td>\n",
       "      <td>0</td>\n",
       "      <td>A</td>\n",
       "      <td>A</td>\n",
       "      <td>0</td>\n",
       "      <td>No Deposit</td>\n",
       "      <td>0</td>\n",
       "      <td>0</td>\n",
       "      <td>NaN</td>\n",
       "    </tr>\n",
       "    <tr>\n",
       "      <th>119389</th>\n",
       "      <td>City Hotel</td>\n",
       "      <td>0</td>\n",
       "      <td>205</td>\n",
       "      <td>2017</td>\n",
       "      <td>August</td>\n",
       "      <td>35</td>\n",
       "      <td>29</td>\n",
       "      <td>2</td>\n",
       "      <td>7</td>\n",
       "      <td>2</td>\n",
       "      <td>...</td>\n",
       "      <td>0</td>\n",
       "      <td>0</td>\n",
       "      <td>0</td>\n",
       "      <td>A</td>\n",
       "      <td>A</td>\n",
       "      <td>0</td>\n",
       "      <td>No Deposit</td>\n",
       "      <td>0</td>\n",
       "      <td>2</td>\n",
       "      <td>NaN</td>\n",
       "    </tr>\n",
       "  </tbody>\n",
       "</table>\n",
       "<p>118800 rows × 24 columns</p>\n",
       "</div>"
      ],
      "text/plain": [
       "               hotel  is_canceled  lead_time  arrival_date_year  \\\n",
       "0       Resort Hotel            0        342               2015   \n",
       "1       Resort Hotel            0        737               2015   \n",
       "2       Resort Hotel            0          7               2015   \n",
       "3       Resort Hotel            0         13               2015   \n",
       "4       Resort Hotel            0         14               2015   \n",
       "...              ...          ...        ...                ...   \n",
       "119385    City Hotel            0         23               2017   \n",
       "119386    City Hotel            0        102               2017   \n",
       "119387    City Hotel            0         34               2017   \n",
       "119388    City Hotel            0        109               2017   \n",
       "119389    City Hotel            0        205               2017   \n",
       "\n",
       "       arrival_date_month  arrival_date_week_number  \\\n",
       "0                    July                        27   \n",
       "1                    July                        27   \n",
       "2                    July                        27   \n",
       "3                    July                        27   \n",
       "4                    July                        27   \n",
       "...                   ...                       ...   \n",
       "119385             August                        35   \n",
       "119386             August                        35   \n",
       "119387             August                        35   \n",
       "119388             August                        35   \n",
       "119389             August                        35   \n",
       "\n",
       "        arrival_date_day_of_month  stays_in_weekend_nights  \\\n",
       "0                               1                        0   \n",
       "1                               1                        0   \n",
       "2                               1                        0   \n",
       "3                               1                        0   \n",
       "4                               1                        0   \n",
       "...                           ...                      ...   \n",
       "119385                         30                        2   \n",
       "119386                         31                        2   \n",
       "119387                         31                        2   \n",
       "119388                         31                        2   \n",
       "119389                         29                        2   \n",
       "\n",
       "        stays_in_week_nights  adults  ...  is_repeated_guest  \\\n",
       "0                          0       2  ...                  0   \n",
       "1                          0       2  ...                  0   \n",
       "2                          1       1  ...                  0   \n",
       "3                          1       1  ...                  0   \n",
       "4                          2       2  ...                  0   \n",
       "...                      ...     ...  ...                ...   \n",
       "119385                     5       2  ...                  0   \n",
       "119386                     5       3  ...                  0   \n",
       "119387                     5       2  ...                  0   \n",
       "119388                     5       2  ...                  0   \n",
       "119389                     7       2  ...                  0   \n",
       "\n",
       "        previous_cancellations previous_bookings_not_canceled  \\\n",
       "0                            0                              0   \n",
       "1                            0                              0   \n",
       "2                            0                              0   \n",
       "3                            0                              0   \n",
       "4                            0                              0   \n",
       "...                        ...                            ...   \n",
       "119385                       0                              0   \n",
       "119386                       0                              0   \n",
       "119387                       0                              0   \n",
       "119388                       0                              0   \n",
       "119389                       0                              0   \n",
       "\n",
       "       reserved_room_type  assigned_room_type  booking_changes  deposit_type  \\\n",
       "0                       C                   C                3    No Deposit   \n",
       "1                       C                   C                4    No Deposit   \n",
       "2                       A                   C                0    No Deposit   \n",
       "3                       A                   A                0    No Deposit   \n",
       "4                       A                   A                0    No Deposit   \n",
       "...                   ...                 ...              ...           ...   \n",
       "119385                  A                   A                0    No Deposit   \n",
       "119386                  E                   E                0    No Deposit   \n",
       "119387                  D                   D                0    No Deposit   \n",
       "119388                  A                   A                0    No Deposit   \n",
       "119389                  A                   A                0    No Deposit   \n",
       "\n",
       "       days_in_waiting_list total_of_special_requests  \\\n",
       "0                         0                         0   \n",
       "1                         0                         0   \n",
       "2                         0                         0   \n",
       "3                         0                         0   \n",
       "4                         0                         1   \n",
       "...                     ...                       ...   \n",
       "119385                    0                         0   \n",
       "119386                    0                         2   \n",
       "119387                    0                         4   \n",
       "119388                    0                         0   \n",
       "119389                    0                         2   \n",
       "\n",
       "        percentage_previous_cancelations  \n",
       "0                                    NaN  \n",
       "1                                    NaN  \n",
       "2                                    NaN  \n",
       "3                                    NaN  \n",
       "4                                    NaN  \n",
       "...                                  ...  \n",
       "119385                               NaN  \n",
       "119386                               NaN  \n",
       "119387                               NaN  \n",
       "119388                               NaN  \n",
       "119389                               NaN  \n",
       "\n",
       "[118800 rows x 24 columns]"
      ]
     },
     "execution_count": 12,
     "metadata": {},
     "output_type": "execute_result"
    }
   ],
   "source": [
    "def loyalty_cust_cancel(row):\n",
    "    if row[\"is_repeated_guest\"]== 1:\n",
    "        return row[\"previous_cancellations\"]/(row[\"previous_cancellations\"]+row[\"previous_bookings_not_canceled\"])\n",
    "\n",
    "data[\"percentage_previous_cancelations\"]=data.apply(loyalty_cust_cancel, axis=1)\n",
    "data"
   ]
  },
  {
   "cell_type": "markdown",
   "id": "07ec5616",
   "metadata": {},
   "source": [
    "Null Values"
   ]
  },
  {
   "cell_type": "code",
   "execution_count": 13,
   "id": "f9481a0a",
   "metadata": {},
   "outputs": [
    {
     "data": {
      "text/plain": [
       "hotel                                    0\n",
       "is_canceled                              0\n",
       "lead_time                                0\n",
       "arrival_date_year                        0\n",
       "arrival_date_month                       0\n",
       "arrival_date_week_number                 0\n",
       "arrival_date_day_of_month                0\n",
       "stays_in_weekend_nights                  0\n",
       "stays_in_week_nights                     0\n",
       "adults                                   0\n",
       "children                                 4\n",
       "babies                                   0\n",
       "meal                                     0\n",
       "country                                487\n",
       "is_repeated_guest                        0\n",
       "previous_cancellations                   0\n",
       "previous_bookings_not_canceled           0\n",
       "reserved_room_type                       0\n",
       "assigned_room_type                       0\n",
       "booking_changes                          0\n",
       "deposit_type                             0\n",
       "days_in_waiting_list                     0\n",
       "total_of_special_requests                0\n",
       "percentage_previous_cancelations    115580\n",
       "dtype: int64"
      ]
     },
     "execution_count": 13,
     "metadata": {},
     "output_type": "execute_result"
    }
   ],
   "source": [
    "data.isnull().sum()"
   ]
  },
  {
   "cell_type": "markdown",
   "id": "46a44f76",
   "metadata": {},
   "source": [
    "# Hypothesis Testing"
   ]
  },
  {
   "cell_type": "code",
   "execution_count": 14,
   "id": "cff45e4a",
   "metadata": {},
   "outputs": [
    {
     "data": {
      "text/plain": [
       "Index(['hotel', 'is_canceled', 'lead_time', 'arrival_date_year',\n",
       "       'arrival_date_month', 'arrival_date_week_number',\n",
       "       'arrival_date_day_of_month', 'stays_in_weekend_nights',\n",
       "       'stays_in_week_nights', 'adults', 'children', 'babies', 'meal',\n",
       "       'country', 'is_repeated_guest', 'previous_cancellations',\n",
       "       'previous_bookings_not_canceled', 'reserved_room_type',\n",
       "       'assigned_room_type', 'booking_changes', 'deposit_type',\n",
       "       'days_in_waiting_list', 'total_of_special_requests',\n",
       "       'percentage_previous_cancelations'],\n",
       "      dtype='object')"
      ]
     },
     "execution_count": 14,
     "metadata": {},
     "output_type": "execute_result"
    }
   ],
   "source": [
    "data.columns"
   ]
  },
  {
   "cell_type": "code",
   "execution_count": 15,
   "id": "6750fd5d",
   "metadata": {},
   "outputs": [],
   "source": [
    "final=[]\n",
    "columns=[]"
   ]
  },
  {
   "cell_type": "markdown",
   "id": "4ac75c98",
   "metadata": {},
   "source": [
    "# Are the cancelations dependent of the Hotel Type?"
   ]
  },
  {
   "cell_type": "markdown",
   "id": "4d1e90d8",
   "metadata": {},
   "source": [
    "Contigency test"
   ]
  },
  {
   "cell_type": "code",
   "execution_count": 16,
   "id": "f7ca6a99",
   "metadata": {},
   "outputs": [
    {
     "name": "stdout",
     "output_type": "stream",
     "text": [
      "Reject the null: we have enough evidence to conclude that the  Cancelations are dependent of the hotel type with a  0.95 level of confidence\n",
      "\n",
      "{'test statistic': 2182.8127920142942, 'pvalue': 0.0, 'confidence level': 0.95, 'Dependent?': 'yes', 'Include?': 'yes'}\n"
     ]
    }
   ],
   "source": [
    "#Contingency\n",
    "H0 = \"Cancelations are independent of the hotel type\"\n",
    "H1 = \"Cancelations are dependent of the hotel type\"\n",
    "\n",
    "#rows=cars --> cancelations\n",
    "#columns=perception --> hotel type\n",
    "\n",
    "#we just need the observed values\n",
    "cancel_resort=data[(data[\"hotel\"]==\"Resort Hotel\")&(data[\"is_canceled\"]==1)][\"is_canceled\"].count()\n",
    "cancel_city=data[(data[\"hotel\"]==\"City Hotel\")&(data[\"is_canceled\"]==1)][\"is_canceled\"].count()\n",
    "\n",
    "not_cancel_resort=data[(data[\"hotel\"]==\"Resort Hotel\")&(data[\"is_canceled\"]==0)][\"is_canceled\"].count()\n",
    "not_cancel_city=data[(data[\"hotel\"]==\"City Hotel\")&(data[\"is_canceled\"]==0)][\"is_canceled\"].count()\n",
    "\n",
    "\n",
    "hoteltype_table=[[cancel_resort,not_cancel_resort],\n",
    "                 [cancel_city,not_cancel_city]]\n",
    "\n",
    "\n",
    "stat, pvalue, ddof, E=st.chi2_contingency(hoteltype_table)\n",
    "\n",
    "#significance level\n",
    "alpha = 0.05\n",
    "\n",
    "if pvalue < alpha:\n",
    "    print(\"Reject the null: we have enough evidence to conclude that the \",H1, \"with a \", 1-alpha, \"level of confidence\")\n",
    "else:\n",
    "    print(\"Can't reject the null: we don't have enough evidence to conclude that the \",H1, \"with a \", 1-alpha, \"level of confidence\")\n",
    "    \n",
    "hotel_type = {}\n",
    "hotel_type[\"test statistic\"]=stat\n",
    "hotel_type[\"pvalue\"]=pvalue\n",
    "hotel_type[\"confidence level\"]=1-alpha\n",
    "\n",
    "if pvalue < alpha:\n",
    "    hotel_type[\"Dependent?\"]= \"yes\"\n",
    "    hotel_type[\"Include?\"]= \"yes\"\n",
    "else:\n",
    "    hotel_type[\"Dependent?\"]= \"no\"\n",
    "    hotel_type[\"Include?\"]= \"no\"\n",
    "\n",
    "print(\"\")\n",
    "print(hotel_type)\n",
    "\n",
    "\n",
    "columns.append(\"hotel_type\")"
   ]
  },
  {
   "cell_type": "markdown",
   "id": "15bb1207",
   "metadata": {},
   "source": [
    "Regression"
   ]
  },
  {
   "cell_type": "code",
   "execution_count": 17,
   "id": "947e0df5",
   "metadata": {},
   "outputs": [],
   "source": [
    "data_hotel=pd.get_dummies(data, columns = [\"hotel\"])"
   ]
  },
  {
   "cell_type": "code",
   "execution_count": 18,
   "id": "72e33256",
   "metadata": {},
   "outputs": [
    {
     "name": "stdout",
     "output_type": "stream",
     "text": [
      "[-0.94631628] [0.6172082] 0.628013468013468\n"
     ]
    }
   ],
   "source": [
    "x = data_hotel[[\"hotel_City Hotel\"]] #features\n",
    "y=data_hotel[\"is_canceled\"] #target\n",
    "model = LogisticRegression()\n",
    "result=model.fit(x,y)\n",
    "accuracy = model.score(x,y)\n",
    "b0=result.intercept_\n",
    "b1=result.coef_[0]\n",
    "correl= data_hotel[\"hotel_City Hotel\"].corr(data_hotel[\"is_canceled\"])\n",
    "\n",
    "print(b0,b1,accuracy)\n",
    "\n",
    "hotel_type[\"Correlation\"]=round(data_hotel[\"hotel_City Hotel\"].corr(data_hotel[\"is_canceled\"]),2)\n",
    "hotel_type[\"1\"]=\"City Hotel\"\n",
    "hotel_type[\"Coefficient\"]=round(b1[0],2)\n",
    "hotel_type[\"Intercept\"]=round(b0[0],2)\n",
    "hotel_type[\"Accuracy\"]=accuracy\n",
    "\n",
    "final.append(hotel_type)"
   ]
  },
  {
   "cell_type": "code",
   "execution_count": 19,
   "id": "b5b588f1",
   "metadata": {},
   "outputs": [
    {
     "data": {
      "text/plain": [
       "True"
      ]
     },
     "execution_count": 19,
     "metadata": {},
     "output_type": "execute_result"
    }
   ],
   "source": [
    "len(final)==len(columns)"
   ]
  },
  {
   "cell_type": "markdown",
   "id": "9a438874",
   "metadata": {},
   "source": [
    "# Are the cancelations dependent on the lead_time?"
   ]
  },
  {
   "cell_type": "code",
   "execution_count": 20,
   "id": "2c07dd9c",
   "metadata": {
    "scrolled": true
   },
   "outputs": [
    {
     "data": {
      "text/plain": [
       "count    118800.000000\n",
       "mean        104.478308\n",
       "std         106.888517\n",
       "min           0.000000\n",
       "25%          18.000000\n",
       "50%          70.000000\n",
       "75%         161.000000\n",
       "max         737.000000\n",
       "Name: lead_time, dtype: float64"
      ]
     },
     "execution_count": 20,
     "metadata": {},
     "output_type": "execute_result"
    }
   ],
   "source": [
    "data[\"lead_time\"].describe()"
   ]
  },
  {
   "cell_type": "code",
   "execution_count": 21,
   "id": "13d28985",
   "metadata": {},
   "outputs": [
    {
     "data": {
      "text/plain": [
       "0      5880\n",
       "1      3439\n",
       "2      2066\n",
       "3      1813\n",
       "4      1713\n",
       "       ... \n",
       "435       1\n",
       "709       1\n",
       "737       1\n",
       "380       1\n",
       "463       1\n",
       "Name: lead_time, Length: 479, dtype: int64"
      ]
     },
     "execution_count": 21,
     "metadata": {},
     "output_type": "execute_result"
    }
   ],
   "source": [
    "data[\"lead_time\"].value_counts()"
   ]
  },
  {
   "cell_type": "code",
   "execution_count": 22,
   "id": "3a7f0cf1",
   "metadata": {},
   "outputs": [],
   "source": [
    "q1=np.quantile(data[\"lead_time\"],0.25)\n",
    "q2=np.quantile(data[\"lead_time\"],0.5)\n",
    "q3=np.quantile(data[\"lead_time\"],0.75)\n",
    "max=data[\"lead_time\"].max()\n",
    "min=data[\"lead_time\"].min()"
   ]
  },
  {
   "cell_type": "code",
   "execution_count": 23,
   "id": "672999c3",
   "metadata": {},
   "outputs": [],
   "source": [
    "#chose to use quartiles because we don't know to where it is and when is high season --> can't conclude what's most advisabe\n",
    "labels = [\"very low\",\"low\",\"moderate\",\"high\",\"extreme high\"]\n",
    "bins = pd.cut(data[\"lead_time\"], [min,7,30,104,160,max],labels = labels)\n",
    "bins.value_counts()\n",
    "\n",
    "data[\"lead_time_cat\"]=bins"
   ]
  },
  {
   "cell_type": "code",
   "execution_count": 24,
   "id": "4ee9a49a",
   "metadata": {},
   "outputs": [
    {
     "data": {
      "text/plain": [
       "moderate        34899\n",
       "extreme high    29811\n",
       "low             18908\n",
       "high            15936\n",
       "very low        13366\n",
       "Name: lead_time, dtype: int64"
      ]
     },
     "execution_count": 24,
     "metadata": {},
     "output_type": "execute_result"
    }
   ],
   "source": [
    "bins.value_counts()"
   ]
  },
  {
   "cell_type": "code",
   "execution_count": 25,
   "id": "8d738c9e",
   "metadata": {},
   "outputs": [
    {
     "name": "stdout",
     "output_type": "stream",
     "text": [
      "Reject the null: we have enough evidence to conclude that the  Cancelations are dependent of the lead time with a  0.95 level of confidence\n",
      "\n",
      "{'test statistic': 8909.060559654159, 'pvalue': 0.0, 'confidence level': 0.95, 'Dependent?': 'yes', 'Include?': 'yes'}\n"
     ]
    }
   ],
   "source": [
    "#Contingency\n",
    "H0 = \"Cancelations are independent of the lead time\"\n",
    "H1 = \"Cancelations are dependent of the lead time\"\n",
    "\n",
    "#rows=cars --> cancelations\n",
    "#columns=perception --> hotel type\n",
    "\n",
    "#we just need the observed values\n",
    "cancel_vlow=data[(data[\"lead_time_cat\"]==\"very low\")&(data[\"is_canceled\"]==1)][\"is_canceled\"].count()\n",
    "cancel_low=data[(data[\"lead_time_cat\"]==\"low\")&(data[\"is_canceled\"]==1)][\"is_canceled\"].count()\n",
    "cancel_moderate=data[(data[\"lead_time_cat\"]==\"moderate\")&(data[\"is_canceled\"]==1)][\"is_canceled\"].count()\n",
    "cancel_high=data[(data[\"lead_time_cat\"]==\"high\")&(data[\"is_canceled\"]==1)][\"is_canceled\"].count()\n",
    "cancel_extreme=data[(data[\"lead_time_cat\"]==\"extreme high\")&(data[\"is_canceled\"]==1)][\"is_canceled\"].count()\n",
    "\n",
    "notcancel_vlow=data[(data[\"lead_time_cat\"]==\"very low\")&(data[\"is_canceled\"]==0)][\"is_canceled\"].count()\n",
    "notcancel_low=data[(data[\"lead_time_cat\"]==\"low\")&(data[\"is_canceled\"]==0)][\"is_canceled\"].count()\n",
    "notcancel_moderate=data[(data[\"lead_time_cat\"]==\"moderate\")&(data[\"is_canceled\"]==0)][\"is_canceled\"].count()\n",
    "notcancel_high=data[(data[\"lead_time_cat\"]==\"high\")&(data[\"is_canceled\"]==0)][\"is_canceled\"].count()\n",
    "notcancel_extreme=data[(data[\"lead_time_cat\"]==\"extreme high\")&(data[\"is_canceled\"]==0)][\"is_canceled\"].count()\n",
    "\n",
    "leadtime_table=[[cancel_vlow,notcancel_vlow],\n",
    "                [cancel_low,notcancel_low],\n",
    "                 [cancel_moderate,notcancel_moderate],\n",
    "                 [cancel_high,notcancel_high],\n",
    "                 [cancel_extreme,notcancel_extreme]]\n",
    "\n",
    "\n",
    "stat, pvalue, ddof, E=st.chi2_contingency(leadtime_table)\n",
    "\n",
    "#significance level\n",
    "alpha = 0.05\n",
    "\n",
    "if pvalue < alpha:\n",
    "    print(\"Reject the null: we have enough evidence to conclude that the \",H1, \"with a \", 1-alpha, \"level of confidence\")\n",
    "else:\n",
    "    print(\"Can't reject the null: we don't have enough evidence to conclude that the \",H1, \"with a \", 1-alpha, \"level of confidence\")\n",
    "    \n",
    "leadtime = {}\n",
    "leadtime[\"test statistic\"]=stat\n",
    "leadtime[\"pvalue\"]=pvalue\n",
    "leadtime[\"confidence level\"]=1-alpha\n",
    "\n",
    "if pvalue < alpha:\n",
    "    leadtime[\"Dependent?\"]= \"yes\"\n",
    "    leadtime[\"Include?\"]= \"yes\"\n",
    "else:\n",
    "    leadtime[\"Dependent?\"]= \"no\"\n",
    "    leadtime[\"Include?\"]= \"no\"\n",
    "\n",
    "print(\"\")\n",
    "print(leadtime)\n",
    "\n",
    "\n",
    "columns.append(\"leadtime\")"
   ]
  },
  {
   "cell_type": "markdown",
   "id": "9c438992",
   "metadata": {},
   "source": [
    "Regression"
   ]
  },
  {
   "cell_type": "code",
   "execution_count": 26,
   "id": "f3f3e187",
   "metadata": {},
   "outputs": [
    {
     "name": "stdout",
     "output_type": "stream",
     "text": [
      "[-1.15684397] [0.00581689] 0.6600336700336701\n"
     ]
    }
   ],
   "source": [
    "x = data[[\"lead_time\"]] #features\n",
    "y=data[\"is_canceled\"] #target\n",
    "model = LogisticRegression()\n",
    "result=model.fit(x,y)\n",
    "accuracy = model.score(x,y)\n",
    "b0=result.intercept_\n",
    "b1=result.coef_[0]\n",
    "\n",
    "print(b0,b1,accuracy)\n",
    "\n",
    "leadtime[\"Correlation\"]=round(data[\"lead_time\"].corr(data[\"is_canceled\"]),2)\n",
    "leadtime[\"1\"]=\"\"\n",
    "leadtime[\"Coefficient\"]=round(b1[0],2)\n",
    "leadtime[\"Intercept\"]=round(b0[0],2)\n",
    "leadtime[\"Accuracy\"]=accuracy\n",
    "final.append(leadtime)"
   ]
  },
  {
   "cell_type": "code",
   "execution_count": 27,
   "id": "00f9fe19",
   "metadata": {},
   "outputs": [
    {
     "data": {
      "text/plain": [
       "True"
      ]
     },
     "execution_count": 27,
     "metadata": {},
     "output_type": "execute_result"
    }
   ],
   "source": [
    "len(final)==len(columns)"
   ]
  },
  {
   "cell_type": "markdown",
   "id": "883d17b2",
   "metadata": {},
   "source": [
    "# Are the cancelations dependent on the meal?"
   ]
  },
  {
   "cell_type": "code",
   "execution_count": 28,
   "id": "12b6d1f9",
   "metadata": {
    "scrolled": true
   },
   "outputs": [
    {
     "data": {
      "text/plain": [
       "count     118800\n",
       "unique         5\n",
       "top           BB\n",
       "freq       91845\n",
       "Name: meal, dtype: object"
      ]
     },
     "execution_count": 28,
     "metadata": {},
     "output_type": "execute_result"
    }
   ],
   "source": [
    "data[\"meal\"].describe()"
   ]
  },
  {
   "cell_type": "code",
   "execution_count": 29,
   "id": "872ee1e7",
   "metadata": {},
   "outputs": [
    {
     "data": {
      "text/plain": [
       "BB           91845\n",
       "HB           14406\n",
       "SC           10595\n",
       "Undefined     1156\n",
       "FB             798\n",
       "Name: meal, dtype: int64"
      ]
     },
     "execution_count": 29,
     "metadata": {},
     "output_type": "execute_result"
    }
   ],
   "source": [
    "data[\"meal\"].value_counts()"
   ]
  },
  {
   "cell_type": "code",
   "execution_count": 30,
   "id": "7558b6e7",
   "metadata": {},
   "outputs": [
    {
     "name": "stdout",
     "output_type": "stream",
     "text": [
      "Reject the null: we have enough evidence to conclude that the  Cancelations are dependent of the meal with a  0.95 level of confidence\n",
      "\n",
      "{'test statistic': 46.54645133815982, 'pvalue': 7.808480243808099e-11, 'confidence level': 0.95, 'Dependent?': 'yes', 'Include?': 'yes'}\n"
     ]
    }
   ],
   "source": [
    "#Contingency\n",
    "H0 = \"Cancelations are independent of the meal\"\n",
    "H1 = \"Cancelations are dependent of the meal\"\n",
    "\n",
    "#rows=cars --> cancelations\n",
    "#columns=perception --> hotel type\n",
    "\n",
    "#we just need the observed values\n",
    "cancel_BB=data[(data[\"meal\"]==\"BB\")&(data[\"is_canceled\"]==1)][\"is_canceled\"].count()\n",
    "cancel_HB=data[(data[\"meal\"]==\"HB\")&(data[\"is_canceled\"]==1)][\"is_canceled\"].count()\n",
    "cancel_SC=data[(data[\"meal\"]==\"SC\")&(data[\"is_canceled\"]==1)][\"is_canceled\"].count()\n",
    "cancel_Undefined=data[(data[\"meal\"]==\"Undefined\")&(data[\"is_canceled\"]==1)][\"is_canceled\"].count()\n",
    "cancel_FB=data[(data[\"meal\"]==\"FB\")&(data[\"is_canceled\"]==1)][\"is_canceled\"].count()\n",
    "\n",
    "notcancel_BB=data[(data[\"meal\"]==\"BB\")&(data[\"is_canceled\"]==0)][\"is_canceled\"].count()\n",
    "notcancel_HB=data[(data[\"meal\"]==\"HB\")&(data[\"is_canceled\"]==0)][\"is_canceled\"].count()\n",
    "notcancel_SC=data[(data[\"meal\"]==\"SC\")&(data[\"is_canceled\"]==0)][\"is_canceled\"].count()\n",
    "notcancel_Undefined=data[(data[\"meal\"]==\"Undefined\")&(data[\"is_canceled\"]==0)][\"is_canceled\"].count()\n",
    "notcancel_FB=data[(data[\"meal\"]==\"FB\")&(data[\"is_canceled\"]==0)][\"is_canceled\"].count()\n",
    "\n",
    "\n",
    "\n",
    "meal_table=[[cancel_BB,cancel_HB,cancel_SC],\n",
    "            [notcancel_BB,notcancel_HB,notcancel_SC]]\n",
    "    \n",
    "\n",
    "\n",
    "stat, pvalue, ddof, E=st.chi2_contingency(meal_table)\n",
    "\n",
    "#significance level\n",
    "alpha = 0.05\n",
    "\n",
    "if pvalue < alpha:\n",
    "    print(\"Reject the null: we have enough evidence to conclude that the \",H1, \"with a \", 1-alpha, \"level of confidence\")\n",
    "else:\n",
    "    print(\"Can't reject the null: we don't have enough evidence to conclude that the \",H1, \"with a \", 1-alpha, \"level of confidence\")\n",
    "    \n",
    "meal = {}\n",
    "meal[\"test statistic\"]=stat\n",
    "meal[\"pvalue\"]=pvalue\n",
    "meal[\"confidence level\"]=1-alpha\n",
    "\n",
    "if pvalue < alpha:\n",
    "    meal[\"Dependent?\"]= \"yes\"\n",
    "    meal[\"Include?\"]= \"yes\"\n",
    "else:\n",
    "    meal[\"Dependent?\"]= \"no\"\n",
    "    meal[\"Include?\"]= \"no\"\n",
    "\n",
    "print(\"\")\n",
    "print(meal)\n",
    "\n",
    "#final.append(meal)\n",
    "#columns.append(\"meal\")"
   ]
  },
  {
   "cell_type": "code",
   "execution_count": null,
   "id": "6cf0f39d",
   "metadata": {},
   "outputs": [],
   "source": []
  },
  {
   "cell_type": "markdown",
   "id": "df0eca43",
   "metadata": {},
   "source": [
    "# Are the cancelations dependent on kids?"
   ]
  },
  {
   "cell_type": "code",
   "execution_count": 31,
   "id": "189af94d",
   "metadata": {
    "scrolled": true
   },
   "outputs": [
    {
     "data": {
      "text/plain": [
       "2     89289\n",
       "1     22896\n",
       "3      6183\n",
       "0       355\n",
       "4        61\n",
       "26        5\n",
       "27        2\n",
       "20        2\n",
       "5         2\n",
       "40        1\n",
       "50        1\n",
       "55        1\n",
       "6         1\n",
       "10        1\n",
       "Name: adults, dtype: int64"
      ]
     },
     "execution_count": 31,
     "metadata": {},
     "output_type": "execute_result"
    }
   ],
   "source": [
    "data[\"adults\"].value_counts()"
   ]
  },
  {
   "cell_type": "code",
   "execution_count": 32,
   "id": "3ec3dfe2",
   "metadata": {
    "scrolled": true
   },
   "outputs": [
    {
     "data": {
      "text/plain": [
       "0.0     110237\n",
       "1.0       4839\n",
       "2.0       3644\n",
       "3.0         75\n",
       "10.0         1\n",
       "Name: children, dtype: int64"
      ]
     },
     "execution_count": 32,
     "metadata": {},
     "output_type": "execute_result"
    }
   ],
   "source": [
    "data[\"children\"].value_counts()"
   ]
  },
  {
   "cell_type": "code",
   "execution_count": 33,
   "id": "ad0f28fa",
   "metadata": {
    "scrolled": false
   },
   "outputs": [
    {
     "data": {
      "text/plain": [
       "0     117888\n",
       "1        895\n",
       "2         15\n",
       "10         1\n",
       "9          1\n",
       "Name: babies, dtype: int64"
      ]
     },
     "execution_count": 33,
     "metadata": {},
     "output_type": "execute_result"
    }
   ],
   "source": [
    "data[\"babies\"].value_counts()"
   ]
  },
  {
   "cell_type": "code",
   "execution_count": 34,
   "id": "71fb6a58",
   "metadata": {},
   "outputs": [
    {
     "data": {
      "text/plain": [
       "Only adults      109499\n",
       "With children      9301\n",
       "Name: with_children, dtype: int64"
      ]
     },
     "execution_count": 34,
     "metadata": {},
     "output_type": "execute_result"
    }
   ],
   "source": [
    "def with_children(row):\n",
    "    if (row[\"children\"] != 0) or (row[\"babies\"] != 0):\n",
    "        return \"With children\"\n",
    "    else:\n",
    "        return \"Only adults\"\n",
    "\n",
    "data[\"with_children\"]=data.apply(with_children, axis=1)\n",
    "data[\"with_children\"].value_counts()"
   ]
  },
  {
   "cell_type": "code",
   "execution_count": 35,
   "id": "1e2662f1",
   "metadata": {},
   "outputs": [
    {
     "name": "stdout",
     "output_type": "stream",
     "text": [
      "Reject the null: we have enough evidence to conclude that the  Cancelations are dependent of the presence of kids with a  0.95 level of confidence\n",
      "\n",
      "{'test statistic': 19.64402947210384, 'pvalue': 9.32943694500879e-06, 'confidence level': 0.95, 'Dependent?': 'yes', 'Include?': 'yes'}\n"
     ]
    }
   ],
   "source": [
    "#Contingency\n",
    "H0 = \"Cancelations are independent of the presence of kids\"\n",
    "H1 = \"Cancelations are dependent of the presence of kids\"\n",
    "\n",
    "#rows=cars --> cancelations\n",
    "#columns=perception --> hotel type\n",
    "\n",
    "#we just need the observed values\n",
    "cancel_children=data[(data[\"with_children\"]==\"With children\")&(data[\"is_canceled\"]==1)][\"is_canceled\"].count()\n",
    "cancel_adults=data[(data[\"with_children\"]==\"Only adults\")&(data[\"is_canceled\"]==1)][\"is_canceled\"].count()\n",
    "\n",
    "notcancel_children=data[(data[\"with_children\"]==\"With children\")&(data[\"is_canceled\"]==0)][\"is_canceled\"].count()\n",
    "notcancel_adults=data[(data[\"with_children\"]==\"Only adults\")&(data[\"is_canceled\"]==0)][\"is_canceled\"].count()\n",
    "\n",
    "\n",
    "\n",
    "children_table=[[cancel_children,cancel_adults],\n",
    "                [notcancel_children,notcancel_adults]]\n",
    "\n",
    "stat, pvalue, ddof, E=st.chi2_contingency(children_table)\n",
    "\n",
    "#significance level\n",
    "alpha = 0.05\n",
    "\n",
    "if pvalue < alpha:\n",
    "    print(\"Reject the null: we have enough evidence to conclude that the \",H1, \"with a \", 1-alpha, \"level of confidence\")\n",
    "else:\n",
    "    print(\"Can't reject the null: we don't have enough evidence to conclude that the \",H1, \"with a \", 1-alpha, \"level of confidence\")\n",
    "    \n",
    "children = {}\n",
    "children[\"test statistic\"]=stat\n",
    "children[\"pvalue\"]=pvalue\n",
    "children[\"confidence level\"]=1-alpha\n",
    "\n",
    "if pvalue < alpha:\n",
    "    children[\"Dependent?\"]= \"yes\"\n",
    "    children[\"Include?\"]= \"yes\"\n",
    "else:\n",
    "    children[\"Dependent?\"]= \"no\"\n",
    "    children[\"Include?\"]= \"no\"\n",
    "\n",
    "print(\"\")\n",
    "print(children)\n",
    "\n",
    "\n",
    "columns.append(\"children\")"
   ]
  },
  {
   "cell_type": "markdown",
   "id": "3f4e2b89",
   "metadata": {},
   "source": [
    "Regression"
   ]
  },
  {
   "cell_type": "code",
   "execution_count": 36,
   "id": "75a8cc38",
   "metadata": {},
   "outputs": [
    {
     "data": {
      "text/html": [
       "<div>\n",
       "<style scoped>\n",
       "    .dataframe tbody tr th:only-of-type {\n",
       "        vertical-align: middle;\n",
       "    }\n",
       "\n",
       "    .dataframe tbody tr th {\n",
       "        vertical-align: top;\n",
       "    }\n",
       "\n",
       "    .dataframe thead th {\n",
       "        text-align: right;\n",
       "    }\n",
       "</style>\n",
       "<table border=\"1\" class=\"dataframe\">\n",
       "  <thead>\n",
       "    <tr style=\"text-align: right;\">\n",
       "      <th></th>\n",
       "      <th>hotel</th>\n",
       "      <th>is_canceled</th>\n",
       "      <th>lead_time</th>\n",
       "      <th>arrival_date_year</th>\n",
       "      <th>arrival_date_month</th>\n",
       "      <th>arrival_date_week_number</th>\n",
       "      <th>arrival_date_day_of_month</th>\n",
       "      <th>stays_in_weekend_nights</th>\n",
       "      <th>stays_in_week_nights</th>\n",
       "      <th>adults</th>\n",
       "      <th>...</th>\n",
       "      <th>reserved_room_type</th>\n",
       "      <th>assigned_room_type</th>\n",
       "      <th>booking_changes</th>\n",
       "      <th>deposit_type</th>\n",
       "      <th>days_in_waiting_list</th>\n",
       "      <th>total_of_special_requests</th>\n",
       "      <th>percentage_previous_cancelations</th>\n",
       "      <th>lead_time_cat</th>\n",
       "      <th>with_children_Only adults</th>\n",
       "      <th>with_children_With children</th>\n",
       "    </tr>\n",
       "  </thead>\n",
       "  <tbody>\n",
       "    <tr>\n",
       "      <th>0</th>\n",
       "      <td>Resort Hotel</td>\n",
       "      <td>0</td>\n",
       "      <td>342</td>\n",
       "      <td>2015</td>\n",
       "      <td>July</td>\n",
       "      <td>27</td>\n",
       "      <td>1</td>\n",
       "      <td>0</td>\n",
       "      <td>0</td>\n",
       "      <td>2</td>\n",
       "      <td>...</td>\n",
       "      <td>C</td>\n",
       "      <td>C</td>\n",
       "      <td>3</td>\n",
       "      <td>No Deposit</td>\n",
       "      <td>0</td>\n",
       "      <td>0</td>\n",
       "      <td>NaN</td>\n",
       "      <td>extreme high</td>\n",
       "      <td>1</td>\n",
       "      <td>0</td>\n",
       "    </tr>\n",
       "  </tbody>\n",
       "</table>\n",
       "<p>1 rows × 27 columns</p>\n",
       "</div>"
      ],
      "text/plain": [
       "          hotel  is_canceled  lead_time  arrival_date_year arrival_date_month  \\\n",
       "0  Resort Hotel            0        342               2015               July   \n",
       "\n",
       "   arrival_date_week_number  arrival_date_day_of_month  \\\n",
       "0                        27                          1   \n",
       "\n",
       "   stays_in_weekend_nights  stays_in_week_nights  adults  ...  \\\n",
       "0                        0                     0       2  ...   \n",
       "\n",
       "   reserved_room_type  assigned_room_type booking_changes deposit_type  \\\n",
       "0                   C                   C               3   No Deposit   \n",
       "\n",
       "   days_in_waiting_list  total_of_special_requests  \\\n",
       "0                     0                          0   \n",
       "\n",
       "   percentage_previous_cancelations lead_time_cat with_children_Only adults  \\\n",
       "0                               NaN  extreme high                         1   \n",
       "\n",
       "   with_children_With children  \n",
       "0                            0  \n",
       "\n",
       "[1 rows x 27 columns]"
      ]
     },
     "execution_count": 36,
     "metadata": {},
     "output_type": "execute_result"
    }
   ],
   "source": [
    "data_children=pd.get_dummies(data, columns = [\"with_children\"])\n",
    "data_children.head(1)"
   ]
  },
  {
   "cell_type": "code",
   "execution_count": 37,
   "id": "128d7be4",
   "metadata": {},
   "outputs": [
    {
     "name": "stdout",
     "output_type": "stream",
     "text": [
      "[-0.51594516] [-0.10039903] 0.628013468013468\n"
     ]
    }
   ],
   "source": [
    "x = data_children[[\"with_children_With children\"]] #features\n",
    "y=data_children[\"is_canceled\"] #target\n",
    "model = LogisticRegression()\n",
    "result=model.fit(x,y)\n",
    "accuracy = model.score(x,y)\n",
    "b0=result.intercept_\n",
    "b1=result.coef_[0]\n",
    "\n",
    "print(b0,b1,accuracy)\n",
    "\n",
    "children[\"Correlation\"]=round(data_children[\"with_children_With children\"].corr(data_children[\"is_canceled\"]),2)\n",
    "children[\"1\"]=\"With Children\"\n",
    "children[\"Coefficient\"]=round(b1[0],2)\n",
    "children[\"Intercept\"]=round(b0[0],2)\n",
    "children[\"Accuracy\"]=accuracy\n",
    "\n",
    "final.append(children)"
   ]
  },
  {
   "cell_type": "code",
   "execution_count": 38,
   "id": "a6a21c72",
   "metadata": {},
   "outputs": [
    {
     "data": {
      "text/plain": [
       "True"
      ]
     },
     "execution_count": 38,
     "metadata": {},
     "output_type": "execute_result"
    }
   ],
   "source": [
    "len(final)==len(columns)"
   ]
  },
  {
   "cell_type": "markdown",
   "id": "77db0a17",
   "metadata": {},
   "source": [
    "# Are the cancelations dependent on repeated guest?"
   ]
  },
  {
   "cell_type": "code",
   "execution_count": 39,
   "id": "db582f37",
   "metadata": {
    "scrolled": true
   },
   "outputs": [
    {
     "data": {
      "text/plain": [
       "0    115580\n",
       "1      3220\n",
       "Name: is_repeated_guest, dtype: int64"
      ]
     },
     "execution_count": 39,
     "metadata": {},
     "output_type": "execute_result"
    }
   ],
   "source": [
    "data[\"is_repeated_guest\"].value_counts()"
   ]
  },
  {
   "cell_type": "code",
   "execution_count": 40,
   "id": "508b570b",
   "metadata": {},
   "outputs": [
    {
     "name": "stdout",
     "output_type": "stream",
     "text": [
      "Reject the null: we have enough evidence to conclude that the  Cancelations are dependent on having been a guest before with a  0.95 level of confidence\n",
      "\n",
      "{'test statistic': 626.8152273955603, 'pvalue': 2.4631051934841833e-138, 'confidence level': 0.95, 'Dependent?': 'yes', 'Include?': 'yes'}\n"
     ]
    }
   ],
   "source": [
    "#Contingency\n",
    "H0 = \"Cancelations are independent on having been a guest before\"\n",
    "H1 = \"Cancelations are dependent on having been a guest before\"\n",
    "\n",
    "#rows=cars --> cancelations\n",
    "#columns=perception --> hotel type\n",
    "\n",
    "#we just need the observed values\n",
    "cancel_previous=data[(data[\"is_repeated_guest\"]==1)&(data[\"is_canceled\"]==1)][\"is_canceled\"].count()\n",
    "cancel_first=data[(data[\"is_repeated_guest\"]==0)&(data[\"is_canceled\"]==1)][\"is_canceled\"].count()\n",
    "\n",
    "notcancel_previous=data[(data[\"is_repeated_guest\"]==1)&(data[\"is_canceled\"]==0)][\"is_canceled\"].count()\n",
    "notcancel_first=data[(data[\"is_repeated_guest\"]==0)&(data[\"is_canceled\"]==0)][\"is_canceled\"].count()\n",
    "\n",
    "\n",
    "\n",
    "previousguest_table=[[cancel_previous,cancel_first],\n",
    "                [notcancel_previous,notcancel_first]]\n",
    "\n",
    "stat, pvalue, ddof, E=st.chi2_contingency(previousguest_table)\n",
    "\n",
    "#significance level\n",
    "alpha = 0.05\n",
    "\n",
    "if pvalue < alpha:\n",
    "    print(\"Reject the null: we have enough evidence to conclude that the \",H1, \"with a \", 1-alpha, \"level of confidence\")\n",
    "else:\n",
    "    print(\"Can't reject the null: we don't have enough evidence to conclude that the \",H1, \"with a \", 1-alpha, \"level of confidence\")\n",
    "    \n",
    "previous_guest = {}\n",
    "previous_guest[\"test statistic\"]=stat\n",
    "previous_guest[\"pvalue\"]=pvalue\n",
    "previous_guest[\"confidence level\"]=1-alpha\n",
    "\n",
    "if pvalue < alpha:\n",
    "    previous_guest[\"Dependent?\"]= \"yes\"\n",
    "    previous_guest[\"Include?\"]= \"yes\"\n",
    "else:\n",
    "    previous_guest[\"Dependent?\"]= \"no\"\n",
    "    previous_guest[\"Include?\"]= \"no\"\n",
    "\n",
    "print(\"\")\n",
    "print(previous_guest)\n",
    "\n",
    "\n",
    "columns.append(\"previous_guest\")"
   ]
  },
  {
   "cell_type": "markdown",
   "id": "bbc348fb",
   "metadata": {},
   "source": [
    "Regression"
   ]
  },
  {
   "cell_type": "code",
   "execution_count": 41,
   "id": "0db74d4f",
   "metadata": {},
   "outputs": [
    {
     "name": "stdout",
     "output_type": "stream",
     "text": [
      "[-0.49872008] [-1.14581762] 0.628013468013468\n"
     ]
    }
   ],
   "source": [
    "x = data[[\"is_repeated_guest\"]] #features\n",
    "y=data[\"is_canceled\"] #target\n",
    "model = LogisticRegression()\n",
    "result=model.fit(x,y)\n",
    "accuracy = model.score(x,y)\n",
    "b0=result.intercept_\n",
    "b1=result.coef_[0]\n",
    "\n",
    "print(b0,b1,accuracy)\n",
    "\n",
    "previous_guest[\"Correlation\"]=round(data[\"is_repeated_guest\"].corr(data[\"is_canceled\"]),2)\n",
    "previous_guest[\"1\"]=\"Previous Guest\"\n",
    "previous_guest[\"Coefficient\"]=round(b1[0],2)\n",
    "previous_guest[\"Intercept\"]=round(b0[0],2)\n",
    "previous_guest[\"Accuracy\"]=accuracy\n",
    "\n",
    "final.append(previous_guest)"
   ]
  },
  {
   "cell_type": "code",
   "execution_count": 42,
   "id": "f7fc12b8",
   "metadata": {},
   "outputs": [
    {
     "data": {
      "text/plain": [
       "True"
      ]
     },
     "execution_count": 42,
     "metadata": {},
     "output_type": "execute_result"
    }
   ],
   "source": [
    "len(final)==len(columns)"
   ]
  },
  {
   "cell_type": "markdown",
   "id": "281042ea",
   "metadata": {},
   "source": [
    "# Are the cancelations dependent on having canceled before?"
   ]
  },
  {
   "cell_type": "code",
   "execution_count": 43,
   "id": "fc98b44a",
   "metadata": {
    "scrolled": true
   },
   "outputs": [
    {
     "data": {
      "text/plain": [
       "0     112316\n",
       "1       6051\n",
       "2        116\n",
       "3         65\n",
       "24        48\n",
       "11        35\n",
       "4         31\n",
       "26        26\n",
       "25        25\n",
       "6         22\n",
       "19        19\n",
       "5         19\n",
       "14        14\n",
       "13        12\n",
       "21         1\n",
       "Name: previous_cancellations, dtype: int64"
      ]
     },
     "execution_count": 43,
     "metadata": {},
     "output_type": "execute_result"
    }
   ],
   "source": [
    "data[\"previous_cancellations\"].value_counts()"
   ]
  },
  {
   "cell_type": "code",
   "execution_count": 44,
   "id": "945d861f",
   "metadata": {},
   "outputs": [
    {
     "data": {
      "text/plain": [
       "didn't cancelled    112316\n",
       "cancelled             6484\n",
       "Name: canceled_before, dtype: int64"
      ]
     },
     "execution_count": 44,
     "metadata": {},
     "output_type": "execute_result"
    }
   ],
   "source": [
    "def canceled(row):\n",
    "    if row[\"previous_cancellations\"] != 0:\n",
    "        return \"cancelled\"\n",
    "    else:\n",
    "        return \"didn't cancelled\"\n",
    "\n",
    "data[\"canceled_before\"]=data.apply(canceled, axis=1)\n",
    "data[\"canceled_before\"].value_counts()"
   ]
  },
  {
   "cell_type": "code",
   "execution_count": 45,
   "id": "51dee540",
   "metadata": {},
   "outputs": [
    {
     "name": "stdout",
     "output_type": "stream",
     "text": [
      "Reject the null: we have enough evidence to conclude that the  Cancelations are dependent on having cancelled before with a  0.95 level of confidence\n",
      "\n",
      "{'test statistic': 8699.047114648187, 'pvalue': 0.0, 'confidence level': 0.95, 'Dependent?': 'yes', 'Include?': 'yes'}\n"
     ]
    }
   ],
   "source": [
    "#Contingency\n",
    "H0 = \"Cancelations are independent on having cancelled before\"\n",
    "H1 = \"Cancelations are dependent on having cancelled before\"\n",
    "\n",
    "#rows=cars --> cancelations\n",
    "#columns=perception --> hotel type\n",
    "\n",
    "#we just need the observed values\n",
    "cancel_cancelled=data[(data[\"canceled_before\"]==\"cancelled\")&(data[\"is_canceled\"]==1)][\"is_canceled\"].count()\n",
    "cancel_notcancelled=data[(data[\"canceled_before\"]==\"didn't cancelled\")&(data[\"is_canceled\"]==1)][\"is_canceled\"].count()\n",
    "\n",
    "notcancel_cancelled=data[(data[\"canceled_before\"]==\"cancelled\")&(data[\"is_canceled\"]==0)][\"is_canceled\"].count()\n",
    "notcancel_notcancelled=data[(data[\"canceled_before\"]==\"didn't cancelled\")&(data[\"is_canceled\"]==0)][\"is_canceled\"].count()\n",
    "\n",
    "\n",
    "\n",
    "canceledbefore_table=[[cancel_cancelled,cancel_notcancelled],\n",
    "                [notcancel_cancelled,notcancel_notcancelled]]\n",
    "\n",
    "stat, pvalue, ddof, E=st.chi2_contingency(canceledbefore_table)\n",
    "\n",
    "#significance level\n",
    "alpha = 0.05\n",
    "\n",
    "if pvalue < alpha:\n",
    "    print(\"Reject the null: we have enough evidence to conclude that the \",H1, \"with a \", 1-alpha, \"level of confidence\")\n",
    "else:\n",
    "    print(\"Can't reject the null: we don't have enough evidence to conclude that the \",H1, \"with a \", 1-alpha, \"level of confidence\")\n",
    "    \n",
    "canceled_before = {}\n",
    "canceled_before[\"test statistic\"]=stat\n",
    "canceled_before[\"pvalue\"]=pvalue\n",
    "canceled_before[\"confidence level\"]=1-alpha\n",
    "\n",
    "if pvalue < alpha:\n",
    "    canceled_before[\"Dependent?\"]= \"yes\"\n",
    "    canceled_before[\"Include?\"]= \"yes\"\n",
    "else:\n",
    "    canceled_before[\"Dependent?\"]= \"no\"\n",
    "    canceled_before[\"Include?\"]= \"no\"\n",
    "\n",
    "print(\"\")\n",
    "print(canceled_before)\n",
    "\n",
    "\n",
    "columns.append(\"canceled_before\")"
   ]
  },
  {
   "cell_type": "markdown",
   "id": "d6fe738e",
   "metadata": {},
   "source": [
    "Regression"
   ]
  },
  {
   "cell_type": "code",
   "execution_count": 46,
   "id": "190db604",
   "metadata": {},
   "outputs": [
    {
     "data": {
      "text/html": [
       "<div>\n",
       "<style scoped>\n",
       "    .dataframe tbody tr th:only-of-type {\n",
       "        vertical-align: middle;\n",
       "    }\n",
       "\n",
       "    .dataframe tbody tr th {\n",
       "        vertical-align: top;\n",
       "    }\n",
       "\n",
       "    .dataframe thead th {\n",
       "        text-align: right;\n",
       "    }\n",
       "</style>\n",
       "<table border=\"1\" class=\"dataframe\">\n",
       "  <thead>\n",
       "    <tr style=\"text-align: right;\">\n",
       "      <th></th>\n",
       "      <th>hotel</th>\n",
       "      <th>is_canceled</th>\n",
       "      <th>lead_time</th>\n",
       "      <th>arrival_date_year</th>\n",
       "      <th>arrival_date_month</th>\n",
       "      <th>arrival_date_week_number</th>\n",
       "      <th>arrival_date_day_of_month</th>\n",
       "      <th>stays_in_weekend_nights</th>\n",
       "      <th>stays_in_week_nights</th>\n",
       "      <th>adults</th>\n",
       "      <th>...</th>\n",
       "      <th>assigned_room_type</th>\n",
       "      <th>booking_changes</th>\n",
       "      <th>deposit_type</th>\n",
       "      <th>days_in_waiting_list</th>\n",
       "      <th>total_of_special_requests</th>\n",
       "      <th>percentage_previous_cancelations</th>\n",
       "      <th>lead_time_cat</th>\n",
       "      <th>with_children</th>\n",
       "      <th>canceled_before_cancelled</th>\n",
       "      <th>canceled_before_didn't cancelled</th>\n",
       "    </tr>\n",
       "  </thead>\n",
       "  <tbody>\n",
       "    <tr>\n",
       "      <th>0</th>\n",
       "      <td>Resort Hotel</td>\n",
       "      <td>0</td>\n",
       "      <td>342</td>\n",
       "      <td>2015</td>\n",
       "      <td>July</td>\n",
       "      <td>27</td>\n",
       "      <td>1</td>\n",
       "      <td>0</td>\n",
       "      <td>0</td>\n",
       "      <td>2</td>\n",
       "      <td>...</td>\n",
       "      <td>C</td>\n",
       "      <td>3</td>\n",
       "      <td>No Deposit</td>\n",
       "      <td>0</td>\n",
       "      <td>0</td>\n",
       "      <td>NaN</td>\n",
       "      <td>extreme high</td>\n",
       "      <td>Only adults</td>\n",
       "      <td>0</td>\n",
       "      <td>1</td>\n",
       "    </tr>\n",
       "  </tbody>\n",
       "</table>\n",
       "<p>1 rows × 28 columns</p>\n",
       "</div>"
      ],
      "text/plain": [
       "          hotel  is_canceled  lead_time  arrival_date_year arrival_date_month  \\\n",
       "0  Resort Hotel            0        342               2015               July   \n",
       "\n",
       "   arrival_date_week_number  arrival_date_day_of_month  \\\n",
       "0                        27                          1   \n",
       "\n",
       "   stays_in_weekend_nights  stays_in_week_nights  adults  ...  \\\n",
       "0                        0                     0       2  ...   \n",
       "\n",
       "   assigned_room_type  booking_changes deposit_type days_in_waiting_list  \\\n",
       "0                   C                3   No Deposit                    0   \n",
       "\n",
       "   total_of_special_requests  percentage_previous_cancelations  lead_time_cat  \\\n",
       "0                          0                               NaN   extreme high   \n",
       "\n",
       "  with_children canceled_before_cancelled  canceled_before_didn't cancelled  \n",
       "0   Only adults                         0                                 1  \n",
       "\n",
       "[1 rows x 28 columns]"
      ]
     },
     "execution_count": 46,
     "metadata": {},
     "output_type": "execute_result"
    }
   ],
   "source": [
    "data_canceled=pd.get_dummies(data, columns = [\"canceled_before\"])\n",
    "data_canceled.head(1)"
   ]
  },
  {
   "cell_type": "code",
   "execution_count": 47,
   "id": "671250eb",
   "metadata": {},
   "outputs": [
    {
     "name": "stdout",
     "output_type": "stream",
     "text": [
      "[-0.6606979] [3.04921546] 0.6734680134680134\n"
     ]
    }
   ],
   "source": [
    "x = data_canceled[[\"canceled_before_cancelled\"]] #features\n",
    "y=data_canceled[\"is_canceled\"] #target\n",
    "model = LogisticRegression()\n",
    "result=model.fit(x,y)\n",
    "accuracy = model.score(x,y)\n",
    "b0=result.intercept_\n",
    "b1=result.coef_[0]\n",
    "\n",
    "print(b0,b1,accuracy)\n",
    "\n",
    "canceled_before[\"Correlation\"]=round(data_canceled[\"canceled_before_cancelled\"].corr(data_canceled[\"is_canceled\"]),2)\n",
    "canceled_before[\"1\"]=\"Canceled\"\n",
    "canceled_before[\"Coefficient\"]=round(b1[0],2)\n",
    "canceled_before[\"Intercept\"]=round(b0[0],2)\n",
    "canceled_before[\"Accuracy\"]=accuracy\n",
    "\n",
    "final.append(canceled_before)"
   ]
  },
  {
   "cell_type": "code",
   "execution_count": 48,
   "id": "c666df32",
   "metadata": {},
   "outputs": [
    {
     "data": {
      "text/plain": [
       "True"
      ]
     },
     "execution_count": 48,
     "metadata": {},
     "output_type": "execute_result"
    }
   ],
   "source": [
    "len(final)==len(columns)"
   ]
  },
  {
   "cell_type": "markdown",
   "id": "d4c75a08",
   "metadata": {},
   "source": [
    "# Are the cancelations dependent on having canceled more than not cancelling?"
   ]
  },
  {
   "cell_type": "code",
   "execution_count": 49,
   "id": "d420f5e2",
   "metadata": {
    "scrolled": true
   },
   "outputs": [
    {
     "data": {
      "text/plain": [
       "0.000000    2293\n",
       "1.000000     382\n",
       "0.500000      49\n",
       "0.250000      38\n",
       "0.166667      38\n",
       "            ... \n",
       "0.089552       1\n",
       "0.084507       1\n",
       "0.082192       1\n",
       "0.077922       1\n",
       "0.192308       1\n",
       "Name: percentage_previous_cancelations, Length: 108, dtype: int64"
      ]
     },
     "execution_count": 49,
     "metadata": {},
     "output_type": "execute_result"
    }
   ],
   "source": [
    "data[\"percentage_previous_cancelations\"].value_counts()"
   ]
  },
  {
   "cell_type": "code",
   "execution_count": 50,
   "id": "711f8454",
   "metadata": {},
   "outputs": [
    {
     "data": {
      "text/plain": [
       "count    3220.000000\n",
       "mean        0.158230\n",
       "std         0.330973\n",
       "min         0.000000\n",
       "25%         0.000000\n",
       "50%         0.000000\n",
       "75%         0.090909\n",
       "max         1.000000\n",
       "Name: percentage_previous_cancelations, dtype: float64"
      ]
     },
     "execution_count": 50,
     "metadata": {},
     "output_type": "execute_result"
    }
   ],
   "source": [
    "data[\"percentage_previous_cancelations\"].describe()"
   ]
  },
  {
   "cell_type": "code",
   "execution_count": 51,
   "id": "4f3417b7",
   "metadata": {},
   "outputs": [],
   "source": [
    "mean=data[\"percentage_previous_cancelations\"].mean()"
   ]
  },
  {
   "cell_type": "code",
   "execution_count": 52,
   "id": "5a2508f2",
   "metadata": {},
   "outputs": [
    {
     "data": {
      "text/plain": [
       "canceled a few times    118137\n",
       "canceled a lot             663\n",
       "Name: percentage_previous_cancelations_cat, dtype: int64"
      ]
     },
     "execution_count": 52,
     "metadata": {},
     "output_type": "execute_result"
    }
   ],
   "source": [
    "def canceled_proportion(row):\n",
    "    if row[\"percentage_previous_cancelations\"] > mean:\n",
    "        return \"canceled a lot\"\n",
    "    else:\n",
    "        return \"canceled a few times\"\n",
    "\n",
    "data[\"percentage_previous_cancelations_cat\"]=data.apply(canceled_proportion, axis=1)\n",
    "data[\"percentage_previous_cancelations_cat\"].value_counts()"
   ]
  },
  {
   "cell_type": "code",
   "execution_count": 53,
   "id": "4e0098c8",
   "metadata": {},
   "outputs": [
    {
     "name": "stdout",
     "output_type": "stream",
     "text": [
      "Reject the null: we have enough evidence to conclude that the  Cancelations are dependent on having cancelled a lot before with a  0.95 level of confidence\n",
      "\n",
      "{'test statistic': 251.64760818469074, 'pvalue': 1.1356666243167098e-56, 'confidence level': 0.95, 'Dependent?': 'yes', 'Include?': 'yes'}\n"
     ]
    }
   ],
   "source": [
    "#Contingency\n",
    "H0 = \"Cancelations are independent on having cancelled a lot before\"\n",
    "H1 = \"Cancelations are dependent on having cancelled a lot before\"\n",
    "\n",
    "#rows=cars --> cancelations\n",
    "#columns=perception --> hotel type\n",
    "\n",
    "#we just need the observed values\n",
    "cancel_lotcanceled=data[(data[\"percentage_previous_cancelations_cat\"]==\"canceled a lot\")&(data[\"is_canceled\"]==1)][\"is_canceled\"].count()\n",
    "cancel_fewcancelled=data[(data[\"percentage_previous_cancelations_cat\"]==\"canceled a few times\")&(data[\"is_canceled\"]==1)][\"is_canceled\"].count()\n",
    "\n",
    "notcancel_lotcancelled=data[(data[\"percentage_previous_cancelations_cat\"]==\"canceled a lot\")&(data[\"is_canceled\"]==0)][\"is_canceled\"].count()\n",
    "notcancel_fewnotcancelled=data[(data[\"percentage_previous_cancelations_cat\"]==\"canceled a few times\")&(data[\"is_canceled\"]==0)][\"is_canceled\"].count()\n",
    "\n",
    "\n",
    "\n",
    "canceledprop_table=[[cancel_lotcanceled,cancel_fewcancelled],\n",
    "                [notcancel_lotcancelled,notcancel_fewnotcancelled]]\n",
    "\n",
    "stat, pvalue, ddof, E=st.chi2_contingency(canceledprop_table)\n",
    "\n",
    "#significance level\n",
    "alpha = 0.05\n",
    "\n",
    "if pvalue < alpha:\n",
    "    print(\"Reject the null: we have enough evidence to conclude that the \",H1, \"with a \", 1-alpha, \"level of confidence\")\n",
    "else:\n",
    "    print(\"Can't reject the null: we don't have enough evidence to conclude that the \",H1, \"with a \", 1-alpha, \"level of confidence\")\n",
    "    \n",
    "canceled_prop = {}\n",
    "canceled_prop[\"test statistic\"]=stat\n",
    "canceled_prop[\"pvalue\"]=pvalue\n",
    "canceled_prop[\"confidence level\"]=1-alpha\n",
    "\n",
    "if pvalue < alpha:\n",
    "    canceled_prop[\"Dependent?\"]= \"yes\"\n",
    "    canceled_prop[\"Include?\"]= \"yes\"\n",
    "else:\n",
    "    canceled_prop[\"Dependent?\"]= \"no\"\n",
    "    canceled_prop[\"Include?\"]= \"no\"\n",
    "\n",
    "print(\"\")\n",
    "print(canceled_prop)\n",
    "\n",
    "\n",
    "columns.append(\"canceled_prop\")"
   ]
  },
  {
   "cell_type": "markdown",
   "id": "1553c4f0",
   "metadata": {},
   "source": [
    "Regression"
   ]
  },
  {
   "cell_type": "code",
   "execution_count": 54,
   "id": "792633f2",
   "metadata": {},
   "outputs": [],
   "source": [
    "data_canceled_prop=data.dropna(subset=['percentage_previous_cancelations'])"
   ]
  },
  {
   "cell_type": "code",
   "execution_count": 55,
   "id": "4adc4c94",
   "metadata": {},
   "outputs": [
    {
     "name": "stdout",
     "output_type": "stream",
     "text": [
      "[-3.39767413] [5.9890135] 0.9456521739130435\n"
     ]
    }
   ],
   "source": [
    "x = data_canceled_prop[[\"percentage_previous_cancelations\"]] #features\n",
    "y=data_canceled_prop[\"is_canceled\"] #target\n",
    "model = LogisticRegression()\n",
    "result=model.fit(x,y)\n",
    "accuracy = model.score(x,y)\n",
    "b0=result.intercept_\n",
    "b1=result.coef_[0]\n",
    "\n",
    "print(b0,b1,accuracy)\n",
    "\n",
    "canceled_prop[\"Correlation\"]=round(data_canceled_prop[\"percentage_previous_cancelations\"].corr(data_canceled_prop[\"is_canceled\"]),2)\n",
    "canceled_prop[\"1\"]=\"Canceled\"\n",
    "canceled_prop[\"Coefficient\"]=round(b1[0],2)\n",
    "canceled_prop[\"Intercept\"]=round(b0[0],2)\n",
    "canceled_prop[\"Accuracy\"]=accuracy\n",
    "\n",
    "final.append(canceled_prop)"
   ]
  },
  {
   "cell_type": "code",
   "execution_count": 56,
   "id": "f26cf112",
   "metadata": {},
   "outputs": [
    {
     "data": {
      "text/plain": [
       "True"
      ]
     },
     "execution_count": 56,
     "metadata": {},
     "output_type": "execute_result"
    }
   ],
   "source": [
    "len(final)==len(columns)"
   ]
  },
  {
   "cell_type": "markdown",
   "id": "a4f00199",
   "metadata": {},
   "source": [
    "# Are the cancelations dependent on not having been assigned the reserved room?"
   ]
  },
  {
   "cell_type": "code",
   "execution_count": 57,
   "id": "00cc4e4f",
   "metadata": {
    "scrolled": false
   },
   "outputs": [
    {
     "data": {
      "text/plain": [
       "A    85573\n",
       "D    19123\n",
       "E     6495\n",
       "F     2883\n",
       "G     2078\n",
       "B     1116\n",
       "C      920\n",
       "H      594\n",
       "P       12\n",
       "L        6\n",
       "Name: reserved_room_type, dtype: int64"
      ]
     },
     "execution_count": 57,
     "metadata": {},
     "output_type": "execute_result"
    }
   ],
   "source": [
    "data[\"reserved_room_type\"].value_counts()"
   ]
  },
  {
   "cell_type": "code",
   "execution_count": 58,
   "id": "db3e3f4c",
   "metadata": {
    "scrolled": true
   },
   "outputs": [
    {
     "data": {
      "text/plain": [
       "A    73812\n",
       "D    25204\n",
       "E     7764\n",
       "F     3736\n",
       "G     2531\n",
       "C     2347\n",
       "B     2148\n",
       "H      707\n",
       "I      322\n",
       "K      216\n",
       "P       12\n",
       "L        1\n",
       "Name: assigned_room_type, dtype: int64"
      ]
     },
     "execution_count": 58,
     "metadata": {},
     "output_type": "execute_result"
    }
   ],
   "source": [
    "data[\"assigned_room_type\"].value_counts()"
   ]
  },
  {
   "cell_type": "code",
   "execution_count": 59,
   "id": "56074ee9",
   "metadata": {},
   "outputs": [
    {
     "data": {
      "text/plain": [
       "Same room       104108\n",
       "Changed room     14692\n",
       "Name: reserved_assign_room, dtype: int64"
      ]
     },
     "execution_count": 59,
     "metadata": {},
     "output_type": "execute_result"
    }
   ],
   "source": [
    "def assigned_room(row):\n",
    "    if row[\"reserved_room_type\"] == row[\"assigned_room_type\"]:\n",
    "        return \"Same room\"\n",
    "    else:\n",
    "        return \"Changed room\"\n",
    "\n",
    "data[\"reserved_assign_room\"]=data.apply(assigned_room, axis=1)\n",
    "data[\"reserved_assign_room\"].value_counts()"
   ]
  },
  {
   "cell_type": "code",
   "execution_count": 60,
   "id": "614da6fa",
   "metadata": {
    "scrolled": true
   },
   "outputs": [
    {
     "data": {
      "text/plain": [
       "Same room       104108\n",
       "Changed room     14692\n",
       "Name: reserved_assign_room, dtype: int64"
      ]
     },
     "execution_count": 60,
     "metadata": {},
     "output_type": "execute_result"
    }
   ],
   "source": [
    "data[\"reserved_assign_room\"].value_counts()"
   ]
  },
  {
   "cell_type": "code",
   "execution_count": 61,
   "id": "390a0816",
   "metadata": {},
   "outputs": [
    {
     "name": "stdout",
     "output_type": "stream",
     "text": [
      "Reject the null: we have enough evidence to conclude that the  Cancelations are dependent on not having been assigned the reserved room with a  0.95 level of confidence\n",
      "\n",
      "{'test statistic': 7268.643591581537, 'pvalue': 0.0, 'confidence level': 0.95, 'Dependent?': 'yes', 'Include?': 'yes'}\n"
     ]
    }
   ],
   "source": [
    "#Contingency\n",
    "H0 = \"Cancelations are independent on not having been assigned the reserved room\"\n",
    "H1 = \"Cancelations are dependent on not having been assigned the reserved room\"\n",
    "\n",
    "#rows=cars --> cancelations\n",
    "#columns=perception --> hotel type\n",
    "\n",
    "#we just need the observed values\n",
    "cancel_sameroom=data[(data[\"reserved_assign_room\"]==\"Same room\")&(data[\"is_canceled\"]==1)][\"is_canceled\"].count()\n",
    "cancel_changedroom=data[(data[\"reserved_assign_room\"]==\"Changed room\")&(data[\"is_canceled\"]==1)][\"is_canceled\"].count()\n",
    "\n",
    "notcancel_sameroom=data[(data[\"reserved_assign_room\"]==\"Same room\")&(data[\"is_canceled\"]==0)][\"is_canceled\"].count()\n",
    "notcancel_changedroom=data[(data[\"reserved_assign_room\"]==\"Changed room\")&(data[\"is_canceled\"]==0)][\"is_canceled\"].count()\n",
    "\n",
    "\n",
    "\n",
    "sameroom_table=[[cancel_sameroom,cancel_changedroom],\n",
    "                [notcancel_sameroom,notcancel_changedroom]]\n",
    "\n",
    "stat, pvalue, ddof, E=st.chi2_contingency(sameroom_table)\n",
    "\n",
    "#significance level\n",
    "alpha = 0.05\n",
    "\n",
    "if pvalue < alpha:\n",
    "    print(\"Reject the null: we have enough evidence to conclude that the \",H1, \"with a \", 1-alpha, \"level of confidence\")\n",
    "else:\n",
    "    print(\"Can't reject the null: we don't have enough evidence to conclude that the \",H1, \"with a \", 1-alpha, \"level of confidence\")\n",
    "    \n",
    "same_room= {}\n",
    "same_room[\"test statistic\"]=stat\n",
    "same_room[\"pvalue\"]=pvalue\n",
    "same_room[\"confidence level\"]=1-alpha\n",
    "\n",
    "if pvalue < alpha:\n",
    "    same_room[\"Dependent?\"]= \"yes\"\n",
    "    same_room[\"Include?\"]= \"yes\"\n",
    "else:\n",
    "    same_room[\"Dependent?\"]= \"no\"\n",
    "    same_room[\"Include?\"]= \"no\"\n",
    "\n",
    "print(\"\")\n",
    "print(same_room)\n",
    "\n",
    "\n",
    "columns.append(\"same_room\")"
   ]
  },
  {
   "cell_type": "markdown",
   "id": "a28fc4b9",
   "metadata": {},
   "source": [
    "Regression"
   ]
  },
  {
   "cell_type": "code",
   "execution_count": 62,
   "id": "5abda028",
   "metadata": {},
   "outputs": [
    {
     "data": {
      "text/html": [
       "<div>\n",
       "<style scoped>\n",
       "    .dataframe tbody tr th:only-of-type {\n",
       "        vertical-align: middle;\n",
       "    }\n",
       "\n",
       "    .dataframe tbody tr th {\n",
       "        vertical-align: top;\n",
       "    }\n",
       "\n",
       "    .dataframe thead th {\n",
       "        text-align: right;\n",
       "    }\n",
       "</style>\n",
       "<table border=\"1\" class=\"dataframe\">\n",
       "  <thead>\n",
       "    <tr style=\"text-align: right;\">\n",
       "      <th></th>\n",
       "      <th>hotel</th>\n",
       "      <th>is_canceled</th>\n",
       "      <th>lead_time</th>\n",
       "      <th>arrival_date_year</th>\n",
       "      <th>arrival_date_month</th>\n",
       "      <th>arrival_date_week_number</th>\n",
       "      <th>arrival_date_day_of_month</th>\n",
       "      <th>stays_in_weekend_nights</th>\n",
       "      <th>stays_in_week_nights</th>\n",
       "      <th>adults</th>\n",
       "      <th>...</th>\n",
       "      <th>deposit_type</th>\n",
       "      <th>days_in_waiting_list</th>\n",
       "      <th>total_of_special_requests</th>\n",
       "      <th>percentage_previous_cancelations</th>\n",
       "      <th>lead_time_cat</th>\n",
       "      <th>with_children</th>\n",
       "      <th>canceled_before</th>\n",
       "      <th>percentage_previous_cancelations_cat</th>\n",
       "      <th>reserved_assign_room_Changed room</th>\n",
       "      <th>reserved_assign_room_Same room</th>\n",
       "    </tr>\n",
       "  </thead>\n",
       "  <tbody>\n",
       "    <tr>\n",
       "      <th>0</th>\n",
       "      <td>Resort Hotel</td>\n",
       "      <td>0</td>\n",
       "      <td>342</td>\n",
       "      <td>2015</td>\n",
       "      <td>July</td>\n",
       "      <td>27</td>\n",
       "      <td>1</td>\n",
       "      <td>0</td>\n",
       "      <td>0</td>\n",
       "      <td>2</td>\n",
       "      <td>...</td>\n",
       "      <td>No Deposit</td>\n",
       "      <td>0</td>\n",
       "      <td>0</td>\n",
       "      <td>NaN</td>\n",
       "      <td>extreme high</td>\n",
       "      <td>Only adults</td>\n",
       "      <td>didn't cancelled</td>\n",
       "      <td>canceled a few times</td>\n",
       "      <td>0</td>\n",
       "      <td>1</td>\n",
       "    </tr>\n",
       "  </tbody>\n",
       "</table>\n",
       "<p>1 rows × 30 columns</p>\n",
       "</div>"
      ],
      "text/plain": [
       "          hotel  is_canceled  lead_time  arrival_date_year arrival_date_month  \\\n",
       "0  Resort Hotel            0        342               2015               July   \n",
       "\n",
       "   arrival_date_week_number  arrival_date_day_of_month  \\\n",
       "0                        27                          1   \n",
       "\n",
       "   stays_in_weekend_nights  stays_in_week_nights  adults  ...  deposit_type  \\\n",
       "0                        0                     0       2  ...    No Deposit   \n",
       "\n",
       "   days_in_waiting_list total_of_special_requests  \\\n",
       "0                     0                         0   \n",
       "\n",
       "  percentage_previous_cancelations  lead_time_cat  with_children  \\\n",
       "0                              NaN   extreme high    Only adults   \n",
       "\n",
       "    canceled_before percentage_previous_cancelations_cat  \\\n",
       "0  didn't cancelled                 canceled a few times   \n",
       "\n",
       "  reserved_assign_room_Changed room  reserved_assign_room_Same room  \n",
       "0                                 0                               1  \n",
       "\n",
       "[1 rows x 30 columns]"
      ]
     },
     "execution_count": 62,
     "metadata": {},
     "output_type": "execute_result"
    }
   ],
   "source": [
    "data_sameroom=pd.get_dummies(data, columns = [\"reserved_assign_room\"])\n",
    "data_sameroom.head(1)"
   ]
  },
  {
   "cell_type": "code",
   "execution_count": 63,
   "id": "e21c3cc3",
   "metadata": {},
   "outputs": [
    {
     "name": "stdout",
     "output_type": "stream",
     "text": [
      "[-0.33559847] [-2.53010883] 0.628013468013468\n"
     ]
    }
   ],
   "source": [
    "x = data_sameroom[[\"reserved_assign_room_Changed room\"]] #features\n",
    "y=data_sameroom[\"is_canceled\"] #target\n",
    "model = LogisticRegression()\n",
    "result=model.fit(x,y)\n",
    "accuracy = model.score(x,y)\n",
    "b0=result.intercept_\n",
    "b1=result.coef_[0]\n",
    "\n",
    "print(b0,b1,accuracy)\n",
    "\n",
    "same_room[\"Correlation\"]=round(data_sameroom[\"reserved_assign_room_Changed room\"].corr(data_sameroom[\"is_canceled\"]),2)\n",
    "same_room[\"1\"]=\"Changed Room\"\n",
    "same_room[\"Coefficient\"]=round(b1[0],2)\n",
    "same_room[\"Intercept\"]=round(b0[0],2)\n",
    "same_room[\"Accuracy\"]=accuracy\n",
    "\n",
    "final.append(same_room)"
   ]
  },
  {
   "cell_type": "code",
   "execution_count": 64,
   "id": "5cc7e1e9",
   "metadata": {},
   "outputs": [
    {
     "data": {
      "text/plain": [
       "True"
      ]
     },
     "execution_count": 64,
     "metadata": {},
     "output_type": "execute_result"
    }
   ],
   "source": [
    "len(final)==len(columns)"
   ]
  },
  {
   "cell_type": "markdown",
   "id": "f7e12d4b",
   "metadata": {},
   "source": [
    "# Are the cancelations dependent on having done booking_changes?"
   ]
  },
  {
   "cell_type": "code",
   "execution_count": 65,
   "id": "8f58ea99",
   "metadata": {
    "scrolled": true
   },
   "outputs": [
    {
     "data": {
      "text/plain": [
       "0     100847\n",
       "1      12608\n",
       "2       3785\n",
       "3        918\n",
       "4        375\n",
       "5        118\n",
       "6         63\n",
       "7         31\n",
       "8         17\n",
       "9          8\n",
       "10         6\n",
       "13         5\n",
       "14         5\n",
       "15         3\n",
       "16         2\n",
       "17         2\n",
       "12         2\n",
       "11         2\n",
       "20         1\n",
       "21         1\n",
       "18         1\n",
       "Name: booking_changes, dtype: int64"
      ]
     },
     "execution_count": 65,
     "metadata": {},
     "output_type": "execute_result"
    }
   ],
   "source": [
    "data[\"booking_changes\"].value_counts()"
   ]
  },
  {
   "cell_type": "code",
   "execution_count": 66,
   "id": "9462f974",
   "metadata": {},
   "outputs": [
    {
     "data": {
      "text/plain": [
       "count    118800.000000\n",
       "mean          0.220842\n",
       "std           0.652465\n",
       "min           0.000000\n",
       "25%           0.000000\n",
       "50%           0.000000\n",
       "75%           0.000000\n",
       "max          21.000000\n",
       "Name: booking_changes, dtype: float64"
      ]
     },
     "execution_count": 66,
     "metadata": {},
     "output_type": "execute_result"
    }
   ],
   "source": [
    "data[\"booking_changes\"].describe()"
   ]
  },
  {
   "cell_type": "code",
   "execution_count": null,
   "id": "319d210a",
   "metadata": {},
   "outputs": [],
   "source": []
  },
  {
   "cell_type": "code",
   "execution_count": 67,
   "id": "aba0043f",
   "metadata": {},
   "outputs": [
    {
     "data": {
      "text/plain": [
       "0.22084175084175084"
      ]
     },
     "execution_count": 67,
     "metadata": {},
     "output_type": "execute_result"
    }
   ],
   "source": [
    "mean=data[\"booking_changes\"].mean()\n",
    "mean"
   ]
  },
  {
   "cell_type": "code",
   "execution_count": 68,
   "id": "4100fafe",
   "metadata": {},
   "outputs": [
    {
     "data": {
      "text/plain": [
       "didn't changed    100847\n",
       "few changes        12608\n",
       "lot of changes      5345\n",
       "Name: booking_changes_cat, dtype: int64"
      ]
     },
     "execution_count": 68,
     "metadata": {},
     "output_type": "execute_result"
    }
   ],
   "source": [
    "def booking_changes(row):\n",
    "    if row[\"booking_changes\"] == 0:\n",
    "        return \"didn't changed\"\n",
    "    elif 0<row[\"booking_changes\"]<2 :\n",
    "        return \"few changes\"\n",
    "    else:\n",
    "        return \"lot of changes\"\n",
    "\n",
    "data[\"booking_changes_cat\"]=data.apply(booking_changes, axis=1)\n",
    "data[\"booking_changes_cat\"].value_counts()"
   ]
  },
  {
   "cell_type": "code",
   "execution_count": 69,
   "id": "f99678b2",
   "metadata": {},
   "outputs": [
    {
     "name": "stdout",
     "output_type": "stream",
     "text": [
      "Reject the null: we have enough evidence to conclude that the  Cancelations are dependent on having done booking_changes with a  0.95 level of confidence\n",
      "\n",
      "{'test statistic': 4197.983579024358, 'pvalue': 0.0, 'confidence level': 0.95, 'Dependent?': 'yes', 'Include?': 'yes'}\n"
     ]
    }
   ],
   "source": [
    "#Contingency\n",
    "H0 = \"Cancelations are independent on having done booking_changes\"\n",
    "H1 = \"Cancelations are dependent on having done booking_changes\"\n",
    "\n",
    "#rows=cars --> cancelations\n",
    "#columns=perception --> hotel type\n",
    "\n",
    "#we just need the observed values\n",
    "cancel_fewchanged=data[(data[\"booking_changes_cat\"]==\"few changes\")&(data[\"is_canceled\"]==1)][\"is_canceled\"].count()\n",
    "cancel_notchanged=data[(data[\"booking_changes_cat\"]==\"didn't changed\")&(data[\"is_canceled\"]==1)][\"is_canceled\"].count()\n",
    "cancel_lotchanged=data[(data[\"booking_changes_cat\"]==\"lot of changes\")&(data[\"is_canceled\"]==1)][\"is_canceled\"].count()\n",
    "\n",
    "notcancel_fewchanged=data[(data[\"booking_changes_cat\"]==\"few changes\")&(data[\"is_canceled\"]==0)][\"is_canceled\"].count()\n",
    "notcancel_notchanged=data[(data[\"booking_changes_cat\"]==\"didn't changed\")&(data[\"is_canceled\"]==0)][\"is_canceled\"].count()\n",
    "notcancel_lotchanged=data[(data[\"booking_changes_cat\"]==\"lot of changes\")&(data[\"is_canceled\"]==0)][\"is_canceled\"].count()\n",
    "\n",
    "\n",
    "\n",
    "bookingchanged_table=[[cancel_fewchanged,cancel_notchanged,cancel_lotchanged],\n",
    "                [notcancel_fewchanged,notcancel_notchanged,notcancel_lotchanged]]\n",
    "\n",
    "stat, pvalue, ddof, E=st.chi2_contingency(bookingchanged_table)\n",
    "\n",
    "#significance level\n",
    "alpha = 0.05\n",
    "\n",
    "if pvalue < alpha:\n",
    "    print(\"Reject the null: we have enough evidence to conclude that the \",H1, \"with a \", 1-alpha, \"level of confidence\")\n",
    "else:\n",
    "    print(\"Can't reject the null: we don't have enough evidence to conclude that the \",H1, \"with a \", 1-alpha, \"level of confidence\")\n",
    "    \n",
    "booking_changed= {}\n",
    "booking_changed[\"test statistic\"]=stat\n",
    "booking_changed[\"pvalue\"]=pvalue\n",
    "booking_changed[\"confidence level\"]=1-alpha\n",
    "\n",
    "if pvalue < alpha:\n",
    "    booking_changed[\"Dependent?\"]= \"yes\"\n",
    "    booking_changed[\"Include?\"]= \"yes\"\n",
    "else:\n",
    "    booking_changed[\"Dependent?\"]= \"no\"\n",
    "    booking_changed[\"Include?\"]= \"no\"\n",
    "\n",
    "print(\"\")\n",
    "print(booking_changed)\n",
    "\n",
    "\n",
    "columns.append(\"booking_changed\")"
   ]
  },
  {
   "cell_type": "markdown",
   "id": "cbcd4dbd",
   "metadata": {},
   "source": [
    "Regression"
   ]
  },
  {
   "cell_type": "code",
   "execution_count": 70,
   "id": "3bb94405",
   "metadata": {},
   "outputs": [
    {
     "name": "stdout",
     "output_type": "stream",
     "text": [
      "[-0.39756466] [-0.73383153] 0.628013468013468\n"
     ]
    }
   ],
   "source": [
    "x = data[[\"booking_changes\"]] #features\n",
    "y=data[\"is_canceled\"] #target\n",
    "model = LogisticRegression()\n",
    "result=model.fit(x,y)\n",
    "accuracy = model.score(x,y)\n",
    "b0=result.intercept_\n",
    "b1=result.coef_[0]\n",
    "\n",
    "print(b0,b1,accuracy)\n",
    "\n",
    "booking_changed[\"Correlation\"]=round(data[\"booking_changes\"].corr(data[\"is_canceled\"]),2)\n",
    "booking_changed[\"1\"]=\"\"\n",
    "booking_changed[\"Coefficient\"]=round(b1[0],2)\n",
    "booking_changed[\"Intercept\"]=round(b0[0],2)\n",
    "booking_changed[\"Accuracy\"]=accuracy\n",
    "\n",
    "final.append(booking_changed)"
   ]
  },
  {
   "cell_type": "code",
   "execution_count": 71,
   "id": "037beb40",
   "metadata": {},
   "outputs": [
    {
     "data": {
      "text/plain": [
       "True"
      ]
     },
     "execution_count": 71,
     "metadata": {},
     "output_type": "execute_result"
    }
   ],
   "source": [
    "len(final)==len(columns)"
   ]
  },
  {
   "cell_type": "code",
   "execution_count": null,
   "id": "2d3bbc68",
   "metadata": {},
   "outputs": [],
   "source": []
  },
  {
   "cell_type": "markdown",
   "id": "5fd49fb5",
   "metadata": {},
   "source": [
    "# Are the cancelations dependent on having deposit?"
   ]
  },
  {
   "cell_type": "code",
   "execution_count": 72,
   "id": "7f671a15",
   "metadata": {
    "scrolled": true
   },
   "outputs": [
    {
     "data": {
      "text/plain": [
       "No Deposit    104054\n",
       "Non Refund     14586\n",
       "Refundable       160\n",
       "Name: deposit_type, dtype: int64"
      ]
     },
     "execution_count": 72,
     "metadata": {},
     "output_type": "execute_result"
    }
   ],
   "source": [
    "data[\"deposit_type\"].value_counts()"
   ]
  },
  {
   "cell_type": "code",
   "execution_count": 73,
   "id": "77d50422",
   "metadata": {},
   "outputs": [
    {
     "name": "stdout",
     "output_type": "stream",
     "text": [
      "Reject the null: we have enough evidence to conclude that the  Cancelations are dependent on having done a deposit with a  0.95 level of confidence\n",
      "\n",
      "{'test statistic': 4197.983579024358, 'pvalue': 0.0, 'confidence level': 0.95, 'Dependent?': 'yes', 'Include?': 'yes'}\n"
     ]
    }
   ],
   "source": [
    "#Contingency\n",
    "H0 = \"Cancelations are independent on having done a deposit\"\n",
    "H1 = \"Cancelations are dependent on having done a deposit\"\n",
    "\n",
    "#rows=cars --> cancelations\n",
    "#columns=perception --> hotel type\n",
    "\n",
    "#we just need the observed values\n",
    "cancel_nodeposit=data[(data[\"deposit_type\"]==\"No Deposit\")&(data[\"is_canceled\"]==1)][\"is_canceled\"].count()\n",
    "cancel_nonrefund=data[(data[\"deposit_type\"]==\"Non Refund\")&(data[\"is_canceled\"]==1)][\"is_canceled\"].count()\n",
    "cancel_refundable=data[(data[\"deposit_type\"]==\"Refundable\")&(data[\"is_canceled\"]==1)][\"is_canceled\"].count()\n",
    "\n",
    "notcancel_nodeposit=data[(data[\"deposit_type\"]==\"No Deposit\")&(data[\"is_canceled\"]==0)][\"is_canceled\"].count()\n",
    "notcancel_nonrefund=data[(data[\"deposit_type\"]==\"Non Refund\")&(data[\"is_canceled\"]==0)][\"is_canceled\"].count()\n",
    "notcancel_refundable=data[(data[\"deposit_type\"]==\"Refundable\")&(data[\"is_canceled\"]==0)][\"is_canceled\"].count()\n",
    "\n",
    "\n",
    "deposit_table=[[cancel_nodeposit,cancel_nonrefund,cancel_refundable],\n",
    "                [notcancel_nodeposit,notcancel_nonrefund,notcancel_refundable]]\n",
    "\n",
    "stat, pvalue, ddof, E=st.chi2_contingency(bookingchanged_table)\n",
    "\n",
    "#significance level\n",
    "alpha = 0.05\n",
    "\n",
    "if pvalue < alpha:\n",
    "    print(\"Reject the null: we have enough evidence to conclude that the \",H1, \"with a \", 1-alpha, \"level of confidence\")\n",
    "else:\n",
    "    print(\"Can't reject the null: we don't have enough evidence to conclude that the \",H1, \"with a \", 1-alpha, \"level of confidence\")\n",
    "    \n",
    "deposit= {}\n",
    "deposit[\"test statistic\"]=stat\n",
    "deposit[\"pvalue\"]=pvalue\n",
    "deposit[\"confidence level\"]=1-alpha\n",
    "\n",
    "if pvalue < alpha:\n",
    "    deposit[\"Dependent?\"]= \"yes\"\n",
    "    deposit[\"Include?\"]= \"yes\"\n",
    "else:\n",
    "    deposit[\"Dependent?\"]= \"no\"\n",
    "    deposit[\"Include?\"]= \"no\"\n",
    "\n",
    "print(\"\")\n",
    "print(deposit)\n",
    "\n",
    "\n",
    "columns.append(\"deposit\")"
   ]
  },
  {
   "cell_type": "markdown",
   "id": "556d8ce3",
   "metadata": {},
   "source": [
    "Regression"
   ]
  },
  {
   "cell_type": "code",
   "execution_count": 74,
   "id": "5b520e30",
   "metadata": {},
   "outputs": [
    {
     "data": {
      "text/html": [
       "<div>\n",
       "<style scoped>\n",
       "    .dataframe tbody tr th:only-of-type {\n",
       "        vertical-align: middle;\n",
       "    }\n",
       "\n",
       "    .dataframe tbody tr th {\n",
       "        vertical-align: top;\n",
       "    }\n",
       "\n",
       "    .dataframe thead th {\n",
       "        text-align: right;\n",
       "    }\n",
       "</style>\n",
       "<table border=\"1\" class=\"dataframe\">\n",
       "  <thead>\n",
       "    <tr style=\"text-align: right;\">\n",
       "      <th></th>\n",
       "      <th>hotel</th>\n",
       "      <th>is_canceled</th>\n",
       "      <th>lead_time</th>\n",
       "      <th>arrival_date_year</th>\n",
       "      <th>arrival_date_month</th>\n",
       "      <th>arrival_date_week_number</th>\n",
       "      <th>arrival_date_day_of_month</th>\n",
       "      <th>stays_in_weekend_nights</th>\n",
       "      <th>stays_in_week_nights</th>\n",
       "      <th>adults</th>\n",
       "      <th>...</th>\n",
       "      <th>percentage_previous_cancelations</th>\n",
       "      <th>lead_time_cat</th>\n",
       "      <th>with_children</th>\n",
       "      <th>canceled_before</th>\n",
       "      <th>percentage_previous_cancelations_cat</th>\n",
       "      <th>reserved_assign_room</th>\n",
       "      <th>booking_changes_cat</th>\n",
       "      <th>deposit_type_No Deposit</th>\n",
       "      <th>deposit_type_Non Refund</th>\n",
       "      <th>deposit_type_Refundable</th>\n",
       "    </tr>\n",
       "  </thead>\n",
       "  <tbody>\n",
       "    <tr>\n",
       "      <th>0</th>\n",
       "      <td>Resort Hotel</td>\n",
       "      <td>0</td>\n",
       "      <td>342</td>\n",
       "      <td>2015</td>\n",
       "      <td>July</td>\n",
       "      <td>27</td>\n",
       "      <td>1</td>\n",
       "      <td>0</td>\n",
       "      <td>0</td>\n",
       "      <td>2</td>\n",
       "      <td>...</td>\n",
       "      <td>NaN</td>\n",
       "      <td>extreme high</td>\n",
       "      <td>Only adults</td>\n",
       "      <td>didn't cancelled</td>\n",
       "      <td>canceled a few times</td>\n",
       "      <td>Same room</td>\n",
       "      <td>lot of changes</td>\n",
       "      <td>1</td>\n",
       "      <td>0</td>\n",
       "      <td>0</td>\n",
       "    </tr>\n",
       "  </tbody>\n",
       "</table>\n",
       "<p>1 rows × 32 columns</p>\n",
       "</div>"
      ],
      "text/plain": [
       "          hotel  is_canceled  lead_time  arrival_date_year arrival_date_month  \\\n",
       "0  Resort Hotel            0        342               2015               July   \n",
       "\n",
       "   arrival_date_week_number  arrival_date_day_of_month  \\\n",
       "0                        27                          1   \n",
       "\n",
       "   stays_in_weekend_nights  stays_in_week_nights  adults  ...  \\\n",
       "0                        0                     0       2  ...   \n",
       "\n",
       "   percentage_previous_cancelations  lead_time_cat with_children  \\\n",
       "0                               NaN   extreme high   Only adults   \n",
       "\n",
       "    canceled_before  percentage_previous_cancelations_cat  \\\n",
       "0  didn't cancelled                  canceled a few times   \n",
       "\n",
       "   reserved_assign_room  booking_changes_cat deposit_type_No Deposit  \\\n",
       "0             Same room       lot of changes                       1   \n",
       "\n",
       "  deposit_type_Non Refund  deposit_type_Refundable  \n",
       "0                       0                        0  \n",
       "\n",
       "[1 rows x 32 columns]"
      ]
     },
     "execution_count": 74,
     "metadata": {},
     "output_type": "execute_result"
    }
   ],
   "source": [
    "data_deposit=pd.get_dummies(data, columns = [\"deposit_type\"])\n",
    "data_deposit.head(1)"
   ]
  },
  {
   "cell_type": "code",
   "execution_count": 75,
   "id": "b629c7fa",
   "metadata": {},
   "outputs": [
    {
     "name": "stdout",
     "output_type": "stream",
     "text": [
      "[0.97969728] [-1.8990928   4.03672366 -2.14117939] 0.7492424242424243\n"
     ]
    }
   ],
   "source": [
    "x = data_deposit[[\"deposit_type_No Deposit\",\"deposit_type_Non Refund\",\"deposit_type_Refundable\"]] #features\n",
    "y=data_deposit[\"is_canceled\"] #target\n",
    "model = LogisticRegression()\n",
    "result=model.fit(x,y)\n",
    "accuracy = model.score(x,y)\n",
    "b0=result.intercept_\n",
    "b1=result.coef_[0]\n",
    "\n",
    "print(b0,b1,accuracy)\n",
    "\n",
    "deposit[\"Correlation\"]=round(data_deposit[\"deposit_type_No Deposit\"].corr(data_deposit[\"is_canceled\"]),2),round(data_deposit[\"deposit_type_Non Refund\"].corr(data_deposit[\"is_canceled\"]),2),round(data_deposit[\"deposit_type_Refundable\"].corr(data_deposit[\"is_canceled\"]),2)\n",
    "deposit[\"1\"]=\"No Deposit, Non Refund, Refundable\"\n",
    "deposit[\"Coefficient\"]=round(b1[0],2),round(b1[1],2),round(b1[2],2)\n",
    "deposit[\"Intercept\"]=round(b0[0],2)\n",
    "deposit[\"Accuracy\"]=accuracy\n",
    "final.append(deposit)"
   ]
  },
  {
   "cell_type": "code",
   "execution_count": 76,
   "id": "ae49a1e0",
   "metadata": {},
   "outputs": [
    {
     "data": {
      "text/plain": [
       "{'test statistic': 4197.983579024358,\n",
       " 'pvalue': 0.0,\n",
       " 'confidence level': 0.95,\n",
       " 'Dependent?': 'yes',\n",
       " 'Include?': 'yes',\n",
       " 'Correlation': (-0.48, 0.48, -0.01),\n",
       " '1': 'No Deposit, Non Refund, Refundable',\n",
       " 'Coefficient': (-1.9, 4.04, -2.14),\n",
       " 'Intercept': 0.98,\n",
       " 'Accuracy': 0.7492424242424243}"
      ]
     },
     "execution_count": 76,
     "metadata": {},
     "output_type": "execute_result"
    }
   ],
   "source": [
    "deposit"
   ]
  },
  {
   "cell_type": "code",
   "execution_count": 77,
   "id": "288ecc55",
   "metadata": {},
   "outputs": [
    {
     "data": {
      "text/plain": [
       "9"
      ]
     },
     "execution_count": 77,
     "metadata": {},
     "output_type": "execute_result"
    }
   ],
   "source": [
    "len(final)\n",
    "#len(columns)"
   ]
  },
  {
   "cell_type": "markdown",
   "id": "075f0986",
   "metadata": {},
   "source": [
    "# Are the cancelations dependent on the time on the waiting list?"
   ]
  },
  {
   "cell_type": "code",
   "execution_count": 78,
   "id": "c1f67ea6",
   "metadata": {
    "scrolled": true
   },
   "outputs": [
    {
     "data": {
      "text/plain": [
       "count    118800.000000\n",
       "mean          2.332677\n",
       "std          17.637595\n",
       "min           0.000000\n",
       "25%           0.000000\n",
       "50%           0.000000\n",
       "75%           0.000000\n",
       "max         391.000000\n",
       "Name: days_in_waiting_list, dtype: float64"
      ]
     },
     "execution_count": 78,
     "metadata": {},
     "output_type": "execute_result"
    }
   ],
   "source": [
    "data[\"days_in_waiting_list\"].describe()"
   ]
  },
  {
   "cell_type": "code",
   "execution_count": 79,
   "id": "4f202460",
   "metadata": {},
   "outputs": [
    {
     "data": {
      "text/plain": [
       "0      115102\n",
       "39        227\n",
       "58        164\n",
       "44        141\n",
       "31        127\n",
       "        ...  \n",
       "116         1\n",
       "109         1\n",
       "37          1\n",
       "89          1\n",
       "36          1\n",
       "Name: days_in_waiting_list, Length: 128, dtype: int64"
      ]
     },
     "execution_count": 79,
     "metadata": {},
     "output_type": "execute_result"
    }
   ],
   "source": [
    "data[\"days_in_waiting_list\"].value_counts()"
   ]
  },
  {
   "cell_type": "code",
   "execution_count": 80,
   "id": "e50e6160",
   "metadata": {},
   "outputs": [],
   "source": [
    "max=data[\"days_in_waiting_list\"].max()\n",
    "min=data[\"days_in_waiting_list\"].min()\n",
    "mean=data[\"days_in_waiting_list\"].mean()"
   ]
  },
  {
   "cell_type": "code",
   "execution_count": 81,
   "id": "0c9111d3",
   "metadata": {},
   "outputs": [],
   "source": [
    "#chose to use quartiles because we don't know to where it is and when is high season --> can't conclude what's most advisabe\n",
    "labels = [\"low\",\"high\"]\n",
    "bins = pd.cut(data[\"days_in_waiting_list\"], [min,1,max],labels = labels)\n",
    "bins.value_counts()\n",
    "\n",
    "data[\"waiting_list_cat\"]=bins"
   ]
  },
  {
   "cell_type": "code",
   "execution_count": 82,
   "id": "91bb90cb",
   "metadata": {
    "scrolled": true
   },
   "outputs": [
    {
     "name": "stdout",
     "output_type": "stream",
     "text": [
      "Reject the null: we have enough evidence to conclude that the  Cancelations are dependent of the waiting list time with a  0.95 level of confidence\n",
      "\n",
      "{'test statistic': 6.248660669845639, 'pvalue': 0.01242872477240866, 'confidence level': 0.95, 'Dependent?': 'yes', 'Include?': 'yes'}\n"
     ]
    }
   ],
   "source": [
    "#Contingency\n",
    "H0 = \"Cancelations are independent of the waiting list time\"\n",
    "H1 = \"Cancelations are dependent of the waiting list time\"\n",
    "\n",
    "#rows=cars --> cancelations\n",
    "#columns=perception --> hotel type\n",
    "\n",
    "#we just need the observed values\n",
    "cancel_low=data[(data[\"waiting_list_cat\"]==\"low\")&(data[\"is_canceled\"]==1)][\"is_canceled\"].count()\n",
    "cancel_high=data[(data[\"waiting_list_cat\"]==\"high\")&(data[\"is_canceled\"]==1)][\"is_canceled\"].count()\n",
    "\n",
    "\n",
    "notcancel_low=data[(data[\"waiting_list_cat\"]==\"low\")&(data[\"is_canceled\"]==0)][\"is_canceled\"].count()\n",
    "notcancel_high=data[(data[\"waiting_list_cat\"]==\"high\")&(data[\"is_canceled\"]==0)][\"is_canceled\"].count()\n",
    "\n",
    "\n",
    "waitinglist_table=[[cancel_low,cancel_high],\n",
    "                 [notcancel_low,notcancel_high]]\n",
    "\n",
    "\n",
    "stat, pvalue, ddof, E=st.chi2_contingency(waitinglist_table)\n",
    "\n",
    "#significance level\n",
    "alpha = 0.05\n",
    "\n",
    "if pvalue < alpha:\n",
    "    print(\"Reject the null: we have enough evidence to conclude that the \",H1, \"with a \", 1-alpha, \"level of confidence\")\n",
    "else:\n",
    "    print(\"Can't reject the null: we don't have enough evidence to conclude that the \",H1, \"with a \", 1-alpha, \"level of confidence\")\n",
    "    \n",
    "waiting_list = {}\n",
    "waiting_list[\"test statistic\"]=stat\n",
    "waiting_list[\"pvalue\"]=pvalue\n",
    "waiting_list[\"confidence level\"]=1-alpha\n",
    "\n",
    "if pvalue <= alpha:\n",
    "    waiting_list[\"Dependent?\"]= \"yes\"\n",
    "    waiting_list[\"Include?\"]= \"yes\"\n",
    "else:\n",
    "    waiting_list[\"Dependent?\"]= \"no\"\n",
    "    waiting_list[\"Include?\"]= \"no\"\n",
    "\n",
    "print(\"\")\n",
    "print(waiting_list)\n",
    "\n",
    "\n",
    "columns.append(\"waiting_list\")"
   ]
  },
  {
   "cell_type": "markdown",
   "id": "3b7f2a91",
   "metadata": {},
   "source": [
    "Regression"
   ]
  },
  {
   "cell_type": "code",
   "execution_count": 83,
   "id": "15683ef1",
   "metadata": {},
   "outputs": [
    {
     "name": "stdout",
     "output_type": "stream",
     "text": [
      "[-0.53888925] [0.00636931] 0.6280808080808081\n"
     ]
    }
   ],
   "source": [
    "x = data[[\"days_in_waiting_list\"]] #features\n",
    "y=data[\"is_canceled\"] #target\n",
    "model = LogisticRegression()\n",
    "result=model.fit(x,y)\n",
    "accuracy = model.score(x,y)\n",
    "b0=result.intercept_\n",
    "b1=result.coef_[0]\n",
    "\n",
    "print(b0,b1,accuracy)\n",
    "\n",
    "waiting_list[\"Correlation\"]=data[\"days_in_waiting_list\"].corr(data[\"is_canceled\"])\n",
    "waiting_list[\"1\"]=\"\"\n",
    "waiting_list[\"Coefficient\"]=round(b1[0],2)\n",
    "waiting_list[\"Intercept\"]=round(b0[0],2)\n",
    "waiting_list[\"Accuracy\"]=accuracy\n",
    "\n",
    "final.append(waiting_list)"
   ]
  },
  {
   "cell_type": "markdown",
   "id": "84522193",
   "metadata": {},
   "source": [
    "# Are the cancelations dependent on the time on the number of special requests?"
   ]
  },
  {
   "cell_type": "code",
   "execution_count": 84,
   "id": "3caaeabe",
   "metadata": {
    "scrolled": false
   },
   "outputs": [
    {
     "data": {
      "text/plain": [
       "count    118800.000000\n",
       "mean          0.571633\n",
       "std           0.792786\n",
       "min           0.000000\n",
       "25%           0.000000\n",
       "50%           0.000000\n",
       "75%           1.000000\n",
       "max           5.000000\n",
       "Name: total_of_special_requests, dtype: float64"
      ]
     },
     "execution_count": 84,
     "metadata": {},
     "output_type": "execute_result"
    }
   ],
   "source": [
    "data[\"total_of_special_requests\"].describe()"
   ]
  },
  {
   "cell_type": "code",
   "execution_count": 85,
   "id": "4377a477",
   "metadata": {
    "scrolled": true
   },
   "outputs": [
    {
     "data": {
      "text/plain": [
       "0    69948\n",
       "1    33069\n",
       "2    12923\n",
       "3     2485\n",
       "4      335\n",
       "5       40\n",
       "Name: total_of_special_requests, dtype: int64"
      ]
     },
     "execution_count": 85,
     "metadata": {},
     "output_type": "execute_result"
    }
   ],
   "source": [
    "data[\"total_of_special_requests\"].value_counts()"
   ]
  },
  {
   "cell_type": "code",
   "execution_count": 86,
   "id": "a9538cad",
   "metadata": {},
   "outputs": [],
   "source": [
    "max=data[\"total_of_special_requests\"].max()\n",
    "min=data[\"total_of_special_requests\"].min()\n",
    "mean=data[\"total_of_special_requests\"].mean()"
   ]
  },
  {
   "cell_type": "code",
   "execution_count": 87,
   "id": "81a8cb0c",
   "metadata": {},
   "outputs": [],
   "source": [
    "#chose to use quartiles because we don't know to where it is and when is high season --> can't conclude what's most advisabe\n",
    "labels = [\"yes\",\"no\"]\n",
    "bins = pd.cut(data[\"total_of_special_requests\"], [min,1,max],labels = labels)\n",
    "bins.value_counts()\n",
    "\n",
    "data[\"special_requests_cat\"]=bins"
   ]
  },
  {
   "cell_type": "code",
   "execution_count": 88,
   "id": "4ffabb9e",
   "metadata": {
    "scrolled": true
   },
   "outputs": [
    {
     "name": "stdout",
     "output_type": "stream",
     "text": [
      "Reject the null: we have enough evidence to conclude that the  Cancelations are dependent of the number of special requests with a  0.95 level of confidence\n",
      "\n",
      "{'test statistic': 5.034333678916322, 'pvalue': 0.024849644287065004, 'confidence level': 0.95, 'Dependent?': 'yes', 'Include?': 'yes'}\n"
     ]
    }
   ],
   "source": [
    "#Contingency\n",
    "H0 = \"Cancelations are independent of the number of special requests\"\n",
    "H1 = \"Cancelations are dependent of the number of special requests\"\n",
    "\n",
    "#rows=cars --> cancelations\n",
    "#columns=perception --> hotel type\n",
    "\n",
    "#we just need the observed values\n",
    "cancel_yes=data[(data[\"special_requests_cat\"]==\"yes\")&(data[\"is_canceled\"]==1)][\"is_canceled\"].count()\n",
    "cancel_no=data[(data[\"special_requests_cat\"]==\"no\")&(data[\"is_canceled\"]==1)][\"is_canceled\"].count()\n",
    "\n",
    "\n",
    "notcancel_yes=data[(data[\"special_requests_cat\"]==\"yes\")&(data[\"is_canceled\"]==0)][\"is_canceled\"].count()\n",
    "notcancel_no=data[(data[\"special_requests_cat\"]==\"no\")&(data[\"is_canceled\"]==0)][\"is_canceled\"].count()\n",
    "\n",
    "\n",
    "specialrequests_table=[[cancel_yes,cancel_no],\n",
    "                 [notcancel_yes,notcancel_no]]\n",
    "\n",
    "\n",
    "stat, pvalue, ddof, E=st.chi2_contingency(specialrequests_table)\n",
    "\n",
    "#significance level\n",
    "alpha = 0.05\n",
    "\n",
    "if pvalue < alpha:\n",
    "    print(\"Reject the null: we have enough evidence to conclude that the \",H1, \"with a \", 1-alpha, \"level of confidence\")\n",
    "else:\n",
    "    print(\"Can't reject the null: we don't have enough evidence to conclude that the \",H1, \"with a \", 1-alpha, \"level of confidence\")\n",
    "    \n",
    "special_requests = {}\n",
    "special_requests[\"test statistic\"]=stat\n",
    "special_requests[\"pvalue\"]=pvalue\n",
    "special_requests[\"confidence level\"]=1-alpha\n",
    "\n",
    "if pvalue <= alpha:\n",
    "    special_requests[\"Dependent?\"]= \"yes\"\n",
    "    special_requests[\"Include?\"]= \"yes\"\n",
    "else:\n",
    "    special_requests[\"Dependent?\"]= \"no\"\n",
    "    special_requests[\"Include?\"]= \"no\"\n",
    "\n",
    "print(\"\")\n",
    "print(special_requests)\n",
    "\n",
    "\n",
    "columns.append(\"special_requests\")"
   ]
  },
  {
   "cell_type": "markdown",
   "id": "96444e7a",
   "metadata": {},
   "source": [
    "Regression"
   ]
  },
  {
   "cell_type": "code",
   "execution_count": 97,
   "id": "a7b508dd",
   "metadata": {},
   "outputs": [
    {
     "name": "stdout",
     "output_type": "stream",
     "text": [
      "[-0.15646715] [-0.73690893] 0.628013468013468\n"
     ]
    }
   ],
   "source": [
    "x = data[[\"total_of_special_requests\"]] #features\n",
    "y=data[\"is_canceled\"] #target\n",
    "model = LogisticRegression()\n",
    "result=model.fit(x,y)\n",
    "accuracy = model.score(x,y)\n",
    "b0=result.intercept_\n",
    "b1=result.coef_[0]\n",
    "\n",
    "print(b0,b1,accuracy)\n",
    "\n",
    "special_requests[\"Correlation\"]= data[\"total_of_special_requests\"].corr(data[\"is_canceled\"])\n",
    "special_requests[\"1\"]=\"\"\n",
    "special_requests[\"Coefficient\"]=round(b1[0],2)\n",
    "special_requests[\"Intercept\"]=round(b0[0],2)\n",
    "special_requests[\"Accuracy\"]=accuracy\n",
    "\n",
    "final.append(special_requests)"
   ]
  },
  {
   "cell_type": "markdown",
   "id": "f43e404b",
   "metadata": {},
   "source": [
    "# Summary"
   ]
  },
  {
   "cell_type": "code",
   "execution_count": 98,
   "id": "c8f50bc1",
   "metadata": {
    "scrolled": true
   },
   "outputs": [
    {
     "data": {
      "text/html": [
       "<div>\n",
       "<style scoped>\n",
       "    .dataframe tbody tr th:only-of-type {\n",
       "        vertical-align: middle;\n",
       "    }\n",
       "\n",
       "    .dataframe tbody tr th {\n",
       "        vertical-align: top;\n",
       "    }\n",
       "\n",
       "    .dataframe thead th {\n",
       "        text-align: right;\n",
       "    }\n",
       "</style>\n",
       "<table border=\"1\" class=\"dataframe\">\n",
       "  <thead>\n",
       "    <tr style=\"text-align: right;\">\n",
       "      <th></th>\n",
       "      <th>test statistic</th>\n",
       "      <th>pvalue</th>\n",
       "      <th>confidence level</th>\n",
       "      <th>Dependent?</th>\n",
       "      <th>Include?</th>\n",
       "      <th>Correlation</th>\n",
       "      <th>1</th>\n",
       "      <th>Coefficient</th>\n",
       "      <th>Intercept</th>\n",
       "      <th>Accuracy</th>\n",
       "    </tr>\n",
       "  </thead>\n",
       "  <tbody>\n",
       "    <tr>\n",
       "      <th>hotel_type</th>\n",
       "      <td>2182.812792</td>\n",
       "      <td>0.000000e+00</td>\n",
       "      <td>0.95</td>\n",
       "      <td>yes</td>\n",
       "      <td>yes</td>\n",
       "      <td>0.14</td>\n",
       "      <td>City Hotel</td>\n",
       "      <td>0.62</td>\n",
       "      <td>-0.95</td>\n",
       "      <td>0.628013</td>\n",
       "    </tr>\n",
       "    <tr>\n",
       "      <th>leadtime</th>\n",
       "      <td>8909.060560</td>\n",
       "      <td>0.000000e+00</td>\n",
       "      <td>0.95</td>\n",
       "      <td>yes</td>\n",
       "      <td>yes</td>\n",
       "      <td>0.29</td>\n",
       "      <td></td>\n",
       "      <td>0.01</td>\n",
       "      <td>-1.16</td>\n",
       "      <td>0.660034</td>\n",
       "    </tr>\n",
       "    <tr>\n",
       "      <th>children</th>\n",
       "      <td>19.644029</td>\n",
       "      <td>9.329437e-06</td>\n",
       "      <td>0.95</td>\n",
       "      <td>yes</td>\n",
       "      <td>yes</td>\n",
       "      <td>-0.01</td>\n",
       "      <td>With Children</td>\n",
       "      <td>-0.1</td>\n",
       "      <td>-0.52</td>\n",
       "      <td>0.628013</td>\n",
       "    </tr>\n",
       "    <tr>\n",
       "      <th>previous_guest</th>\n",
       "      <td>626.815227</td>\n",
       "      <td>2.463105e-138</td>\n",
       "      <td>0.95</td>\n",
       "      <td>yes</td>\n",
       "      <td>yes</td>\n",
       "      <td>-0.07</td>\n",
       "      <td>Previous Guest</td>\n",
       "      <td>-1.15</td>\n",
       "      <td>-0.50</td>\n",
       "      <td>0.628013</td>\n",
       "    </tr>\n",
       "    <tr>\n",
       "      <th>canceled_before</th>\n",
       "      <td>8699.047115</td>\n",
       "      <td>0.000000e+00</td>\n",
       "      <td>0.95</td>\n",
       "      <td>yes</td>\n",
       "      <td>yes</td>\n",
       "      <td>0.27</td>\n",
       "      <td>Canceled</td>\n",
       "      <td>3.05</td>\n",
       "      <td>-0.66</td>\n",
       "      <td>0.673468</td>\n",
       "    </tr>\n",
       "    <tr>\n",
       "      <th>canceled_prop</th>\n",
       "      <td>251.647608</td>\n",
       "      <td>1.135667e-56</td>\n",
       "      <td>0.95</td>\n",
       "      <td>yes</td>\n",
       "      <td>yes</td>\n",
       "      <td>0.82</td>\n",
       "      <td>Canceled</td>\n",
       "      <td>5.99</td>\n",
       "      <td>-3.40</td>\n",
       "      <td>0.945652</td>\n",
       "    </tr>\n",
       "    <tr>\n",
       "      <th>same_room</th>\n",
       "      <td>7268.643592</td>\n",
       "      <td>0.000000e+00</td>\n",
       "      <td>0.95</td>\n",
       "      <td>yes</td>\n",
       "      <td>yes</td>\n",
       "      <td>-0.25</td>\n",
       "      <td>Changed Room</td>\n",
       "      <td>-2.53</td>\n",
       "      <td>-0.34</td>\n",
       "      <td>0.628013</td>\n",
       "    </tr>\n",
       "    <tr>\n",
       "      <th>booking_changed</th>\n",
       "      <td>4197.983579</td>\n",
       "      <td>0.000000e+00</td>\n",
       "      <td>0.95</td>\n",
       "      <td>yes</td>\n",
       "      <td>yes</td>\n",
       "      <td>-0.14</td>\n",
       "      <td></td>\n",
       "      <td>-0.73</td>\n",
       "      <td>-0.40</td>\n",
       "      <td>0.628013</td>\n",
       "    </tr>\n",
       "    <tr>\n",
       "      <th>deposit</th>\n",
       "      <td>4197.983579</td>\n",
       "      <td>0.000000e+00</td>\n",
       "      <td>0.95</td>\n",
       "      <td>yes</td>\n",
       "      <td>yes</td>\n",
       "      <td>(-0.48, 0.48, -0.01)</td>\n",
       "      <td>No Deposit, Non Refund, Refundable</td>\n",
       "      <td>(-1.9, 4.04, -2.14)</td>\n",
       "      <td>0.98</td>\n",
       "      <td>0.749242</td>\n",
       "    </tr>\n",
       "    <tr>\n",
       "      <th>waiting_list</th>\n",
       "      <td>6.248661</td>\n",
       "      <td>1.242872e-02</td>\n",
       "      <td>0.95</td>\n",
       "      <td>yes</td>\n",
       "      <td>yes</td>\n",
       "      <td>0.053846</td>\n",
       "      <td></td>\n",
       "      <td>0.01</td>\n",
       "      <td>-0.54</td>\n",
       "      <td>0.628081</td>\n",
       "    </tr>\n",
       "    <tr>\n",
       "      <th>special_requests</th>\n",
       "      <td>5.034334</td>\n",
       "      <td>2.484964e-02</td>\n",
       "      <td>0.95</td>\n",
       "      <td>yes</td>\n",
       "      <td>yes</td>\n",
       "      <td>-0.235593</td>\n",
       "      <td></td>\n",
       "      <td>-0.74</td>\n",
       "      <td>-0.16</td>\n",
       "      <td>0.628013</td>\n",
       "    </tr>\n",
       "  </tbody>\n",
       "</table>\n",
       "</div>"
      ],
      "text/plain": [
       "                  test statistic         pvalue  confidence level Dependent?  \\\n",
       "hotel_type           2182.812792   0.000000e+00              0.95        yes   \n",
       "leadtime             8909.060560   0.000000e+00              0.95        yes   \n",
       "children               19.644029   9.329437e-06              0.95        yes   \n",
       "previous_guest        626.815227  2.463105e-138              0.95        yes   \n",
       "canceled_before      8699.047115   0.000000e+00              0.95        yes   \n",
       "canceled_prop         251.647608   1.135667e-56              0.95        yes   \n",
       "same_room            7268.643592   0.000000e+00              0.95        yes   \n",
       "booking_changed      4197.983579   0.000000e+00              0.95        yes   \n",
       "deposit              4197.983579   0.000000e+00              0.95        yes   \n",
       "waiting_list            6.248661   1.242872e-02              0.95        yes   \n",
       "special_requests        5.034334   2.484964e-02              0.95        yes   \n",
       "\n",
       "                 Include?           Correlation  \\\n",
       "hotel_type            yes                  0.14   \n",
       "leadtime              yes                  0.29   \n",
       "children              yes                 -0.01   \n",
       "previous_guest        yes                 -0.07   \n",
       "canceled_before       yes                  0.27   \n",
       "canceled_prop         yes                  0.82   \n",
       "same_room             yes                 -0.25   \n",
       "booking_changed       yes                 -0.14   \n",
       "deposit               yes  (-0.48, 0.48, -0.01)   \n",
       "waiting_list          yes              0.053846   \n",
       "special_requests      yes             -0.235593   \n",
       "\n",
       "                                                   1          Coefficient  \\\n",
       "hotel_type                                City Hotel                 0.62   \n",
       "leadtime                                                             0.01   \n",
       "children                               With Children                 -0.1   \n",
       "previous_guest                        Previous Guest                -1.15   \n",
       "canceled_before                             Canceled                 3.05   \n",
       "canceled_prop                               Canceled                 5.99   \n",
       "same_room                               Changed Room                -2.53   \n",
       "booking_changed                                                     -0.73   \n",
       "deposit           No Deposit, Non Refund, Refundable  (-1.9, 4.04, -2.14)   \n",
       "waiting_list                                                         0.01   \n",
       "special_requests                                                    -0.74   \n",
       "\n",
       "                  Intercept  Accuracy  \n",
       "hotel_type            -0.95  0.628013  \n",
       "leadtime              -1.16  0.660034  \n",
       "children              -0.52  0.628013  \n",
       "previous_guest        -0.50  0.628013  \n",
       "canceled_before       -0.66  0.673468  \n",
       "canceled_prop         -3.40  0.945652  \n",
       "same_room             -0.34  0.628013  \n",
       "booking_changed       -0.40  0.628013  \n",
       "deposit                0.98  0.749242  \n",
       "waiting_list          -0.54  0.628081  \n",
       "special_requests      -0.16  0.628013  "
      ]
     },
     "execution_count": 98,
     "metadata": {},
     "output_type": "execute_result"
    }
   ],
   "source": [
    "df=pd.DataFrame(final,index=columns)\n",
    "df"
   ]
  },
  {
   "cell_type": "code",
   "execution_count": 99,
   "id": "37b1665c",
   "metadata": {},
   "outputs": [
    {
     "data": {
      "text/plain": [
       "[{'test statistic': 2182.8127920142942,\n",
       "  'pvalue': 0.0,\n",
       "  'confidence level': 0.95,\n",
       "  'Dependent?': 'yes',\n",
       "  'Include?': 'yes',\n",
       "  'Correlation': 0.14,\n",
       "  '1': 'City Hotel',\n",
       "  'Coefficient': 0.62,\n",
       "  'Intercept': -0.95,\n",
       "  'Accuracy': 0.628013468013468},\n",
       " {'test statistic': 8909.060559654159,\n",
       "  'pvalue': 0.0,\n",
       "  'confidence level': 0.95,\n",
       "  'Dependent?': 'yes',\n",
       "  'Include?': 'yes',\n",
       "  'Correlation': 0.29,\n",
       "  '1': '',\n",
       "  'Coefficient': 0.01,\n",
       "  'Intercept': -1.16,\n",
       "  'Accuracy': 0.6600336700336701},\n",
       " {'test statistic': 19.64402947210384,\n",
       "  'pvalue': 9.32943694500879e-06,\n",
       "  'confidence level': 0.95,\n",
       "  'Dependent?': 'yes',\n",
       "  'Include?': 'yes',\n",
       "  'Correlation': -0.01,\n",
       "  '1': 'With Children',\n",
       "  'Coefficient': -0.1,\n",
       "  'Intercept': -0.52,\n",
       "  'Accuracy': 0.628013468013468},\n",
       " {'test statistic': 626.8152273955603,\n",
       "  'pvalue': 2.4631051934841833e-138,\n",
       "  'confidence level': 0.95,\n",
       "  'Dependent?': 'yes',\n",
       "  'Include?': 'yes',\n",
       "  'Correlation': -0.07,\n",
       "  '1': 'Previous Guest',\n",
       "  'Coefficient': -1.15,\n",
       "  'Intercept': -0.5,\n",
       "  'Accuracy': 0.628013468013468},\n",
       " {'test statistic': 8699.047114648187,\n",
       "  'pvalue': 0.0,\n",
       "  'confidence level': 0.95,\n",
       "  'Dependent?': 'yes',\n",
       "  'Include?': 'yes',\n",
       "  'Correlation': 0.27,\n",
       "  '1': 'Canceled',\n",
       "  'Coefficient': 3.05,\n",
       "  'Intercept': -0.66,\n",
       "  'Accuracy': 0.6734680134680134},\n",
       " {'test statistic': 251.64760818469074,\n",
       "  'pvalue': 1.1356666243167098e-56,\n",
       "  'confidence level': 0.95,\n",
       "  'Dependent?': 'yes',\n",
       "  'Include?': 'yes',\n",
       "  'Correlation': 0.82,\n",
       "  '1': 'Canceled',\n",
       "  'Coefficient': 5.99,\n",
       "  'Intercept': -3.4,\n",
       "  'Accuracy': 0.9456521739130435},\n",
       " {'test statistic': 7268.643591581537,\n",
       "  'pvalue': 0.0,\n",
       "  'confidence level': 0.95,\n",
       "  'Dependent?': 'yes',\n",
       "  'Include?': 'yes',\n",
       "  'Correlation': -0.25,\n",
       "  '1': 'Changed Room',\n",
       "  'Coefficient': -2.53,\n",
       "  'Intercept': -0.34,\n",
       "  'Accuracy': 0.628013468013468},\n",
       " {'test statistic': 4197.983579024358,\n",
       "  'pvalue': 0.0,\n",
       "  'confidence level': 0.95,\n",
       "  'Dependent?': 'yes',\n",
       "  'Include?': 'yes',\n",
       "  'Correlation': -0.14,\n",
       "  '1': '',\n",
       "  'Coefficient': -0.73,\n",
       "  'Intercept': -0.4,\n",
       "  'Accuracy': 0.628013468013468},\n",
       " {'test statistic': 4197.983579024358,\n",
       "  'pvalue': 0.0,\n",
       "  'confidence level': 0.95,\n",
       "  'Dependent?': 'yes',\n",
       "  'Include?': 'yes',\n",
       "  'Correlation': (-0.48, 0.48, -0.01),\n",
       "  '1': 'No Deposit, Non Refund, Refundable',\n",
       "  'Coefficient': (-1.9, 4.04, -2.14),\n",
       "  'Intercept': 0.98,\n",
       "  'Accuracy': 0.7492424242424243},\n",
       " {'test statistic': 6.248660669845639,\n",
       "  'pvalue': 0.01242872477240866,\n",
       "  'confidence level': 0.95,\n",
       "  'Dependent?': 'yes',\n",
       "  'Include?': 'yes',\n",
       "  'Correlation': 0.05384583588876383,\n",
       "  '1': '',\n",
       "  'Coefficient': 0.01,\n",
       "  'Intercept': -0.54,\n",
       "  'Accuracy': 0.6280808080808081},\n",
       " {'test statistic': 5.034333678916322,\n",
       "  'pvalue': 0.024849644287065004,\n",
       "  'confidence level': 0.95,\n",
       "  'Dependent?': 'yes',\n",
       "  'Include?': 'yes',\n",
       "  'Correlation': -0.23559300870444458,\n",
       "  '1': '',\n",
       "  'Coefficient': -0.74,\n",
       "  'Intercept': -0.16,\n",
       "  'Accuracy': 0.628013468013468}]"
      ]
     },
     "execution_count": 99,
     "metadata": {},
     "output_type": "execute_result"
    }
   ],
   "source": [
    "len(final)\n",
    "final"
   ]
  },
  {
   "cell_type": "code",
   "execution_count": 95,
   "id": "52743389",
   "metadata": {},
   "outputs": [
    {
     "data": {
      "text/plain": [
       "['hotel_type',\n",
       " 'leadtime',\n",
       " 'children',\n",
       " 'previous_guest',\n",
       " 'canceled_before',\n",
       " 'canceled_prop',\n",
       " 'same_room',\n",
       " 'booking_changed',\n",
       " 'deposit',\n",
       " 'waiting_list',\n",
       " 'special_requests']"
      ]
     },
     "execution_count": 95,
     "metadata": {},
     "output_type": "execute_result"
    }
   ],
   "source": [
    "len(columns)\n",
    "columns"
   ]
  },
  {
   "cell_type": "code",
   "execution_count": 100,
   "id": "6c87d4bf",
   "metadata": {},
   "outputs": [],
   "source": [
    "def round_df(df):\n",
    "    return df.apply(lambda x: round(x, 2) if pd.api.types.is_numeric_dtype(x) else x)"
   ]
  },
  {
   "cell_type": "code",
   "execution_count": 101,
   "id": "b01ca9a6",
   "metadata": {},
   "outputs": [
    {
     "data": {
      "text/html": [
       "<div>\n",
       "<style scoped>\n",
       "    .dataframe tbody tr th:only-of-type {\n",
       "        vertical-align: middle;\n",
       "    }\n",
       "\n",
       "    .dataframe tbody tr th {\n",
       "        vertical-align: top;\n",
       "    }\n",
       "\n",
       "    .dataframe thead th {\n",
       "        text-align: right;\n",
       "    }\n",
       "</style>\n",
       "<table border=\"1\" class=\"dataframe\">\n",
       "  <thead>\n",
       "    <tr style=\"text-align: right;\">\n",
       "      <th></th>\n",
       "      <th>test statistic</th>\n",
       "      <th>pvalue</th>\n",
       "      <th>confidence level</th>\n",
       "      <th>Dependent?</th>\n",
       "      <th>Include?</th>\n",
       "      <th>Correlation</th>\n",
       "      <th>1</th>\n",
       "      <th>Coefficient</th>\n",
       "      <th>Intercept</th>\n",
       "      <th>Accuracy</th>\n",
       "    </tr>\n",
       "  </thead>\n",
       "  <tbody>\n",
       "    <tr>\n",
       "      <th>hotel_type</th>\n",
       "      <td>2182.81</td>\n",
       "      <td>0.00</td>\n",
       "      <td>0.95</td>\n",
       "      <td>yes</td>\n",
       "      <td>yes</td>\n",
       "      <td>0.14</td>\n",
       "      <td>City Hotel</td>\n",
       "      <td>0.62</td>\n",
       "      <td>-0.95</td>\n",
       "      <td>0.63</td>\n",
       "    </tr>\n",
       "    <tr>\n",
       "      <th>leadtime</th>\n",
       "      <td>8909.06</td>\n",
       "      <td>0.00</td>\n",
       "      <td>0.95</td>\n",
       "      <td>yes</td>\n",
       "      <td>yes</td>\n",
       "      <td>0.29</td>\n",
       "      <td></td>\n",
       "      <td>0.01</td>\n",
       "      <td>-1.16</td>\n",
       "      <td>0.66</td>\n",
       "    </tr>\n",
       "    <tr>\n",
       "      <th>children</th>\n",
       "      <td>19.64</td>\n",
       "      <td>0.00</td>\n",
       "      <td>0.95</td>\n",
       "      <td>yes</td>\n",
       "      <td>yes</td>\n",
       "      <td>-0.01</td>\n",
       "      <td>With Children</td>\n",
       "      <td>-0.1</td>\n",
       "      <td>-0.52</td>\n",
       "      <td>0.63</td>\n",
       "    </tr>\n",
       "    <tr>\n",
       "      <th>previous_guest</th>\n",
       "      <td>626.82</td>\n",
       "      <td>0.00</td>\n",
       "      <td>0.95</td>\n",
       "      <td>yes</td>\n",
       "      <td>yes</td>\n",
       "      <td>-0.07</td>\n",
       "      <td>Previous Guest</td>\n",
       "      <td>-1.15</td>\n",
       "      <td>-0.50</td>\n",
       "      <td>0.63</td>\n",
       "    </tr>\n",
       "    <tr>\n",
       "      <th>canceled_before</th>\n",
       "      <td>8699.05</td>\n",
       "      <td>0.00</td>\n",
       "      <td>0.95</td>\n",
       "      <td>yes</td>\n",
       "      <td>yes</td>\n",
       "      <td>0.27</td>\n",
       "      <td>Canceled</td>\n",
       "      <td>3.05</td>\n",
       "      <td>-0.66</td>\n",
       "      <td>0.67</td>\n",
       "    </tr>\n",
       "    <tr>\n",
       "      <th>canceled_prop</th>\n",
       "      <td>251.65</td>\n",
       "      <td>0.00</td>\n",
       "      <td>0.95</td>\n",
       "      <td>yes</td>\n",
       "      <td>yes</td>\n",
       "      <td>0.82</td>\n",
       "      <td>Canceled</td>\n",
       "      <td>5.99</td>\n",
       "      <td>-3.40</td>\n",
       "      <td>0.95</td>\n",
       "    </tr>\n",
       "    <tr>\n",
       "      <th>same_room</th>\n",
       "      <td>7268.64</td>\n",
       "      <td>0.00</td>\n",
       "      <td>0.95</td>\n",
       "      <td>yes</td>\n",
       "      <td>yes</td>\n",
       "      <td>-0.25</td>\n",
       "      <td>Changed Room</td>\n",
       "      <td>-2.53</td>\n",
       "      <td>-0.34</td>\n",
       "      <td>0.63</td>\n",
       "    </tr>\n",
       "    <tr>\n",
       "      <th>booking_changed</th>\n",
       "      <td>4197.98</td>\n",
       "      <td>0.00</td>\n",
       "      <td>0.95</td>\n",
       "      <td>yes</td>\n",
       "      <td>yes</td>\n",
       "      <td>-0.14</td>\n",
       "      <td></td>\n",
       "      <td>-0.73</td>\n",
       "      <td>-0.40</td>\n",
       "      <td>0.63</td>\n",
       "    </tr>\n",
       "    <tr>\n",
       "      <th>deposit</th>\n",
       "      <td>4197.98</td>\n",
       "      <td>0.00</td>\n",
       "      <td>0.95</td>\n",
       "      <td>yes</td>\n",
       "      <td>yes</td>\n",
       "      <td>(-0.48, 0.48, -0.01)</td>\n",
       "      <td>No Deposit, Non Refund, Refundable</td>\n",
       "      <td>(-1.9, 4.04, -2.14)</td>\n",
       "      <td>0.98</td>\n",
       "      <td>0.75</td>\n",
       "    </tr>\n",
       "    <tr>\n",
       "      <th>waiting_list</th>\n",
       "      <td>6.25</td>\n",
       "      <td>0.01</td>\n",
       "      <td>0.95</td>\n",
       "      <td>yes</td>\n",
       "      <td>yes</td>\n",
       "      <td>0.053846</td>\n",
       "      <td></td>\n",
       "      <td>0.01</td>\n",
       "      <td>-0.54</td>\n",
       "      <td>0.63</td>\n",
       "    </tr>\n",
       "    <tr>\n",
       "      <th>special_requests</th>\n",
       "      <td>5.03</td>\n",
       "      <td>0.02</td>\n",
       "      <td>0.95</td>\n",
       "      <td>yes</td>\n",
       "      <td>yes</td>\n",
       "      <td>-0.235593</td>\n",
       "      <td></td>\n",
       "      <td>-0.74</td>\n",
       "      <td>-0.16</td>\n",
       "      <td>0.63</td>\n",
       "    </tr>\n",
       "  </tbody>\n",
       "</table>\n",
       "</div>"
      ],
      "text/plain": [
       "                  test statistic  pvalue  confidence level Dependent?  \\\n",
       "hotel_type               2182.81    0.00              0.95        yes   \n",
       "leadtime                 8909.06    0.00              0.95        yes   \n",
       "children                   19.64    0.00              0.95        yes   \n",
       "previous_guest            626.82    0.00              0.95        yes   \n",
       "canceled_before          8699.05    0.00              0.95        yes   \n",
       "canceled_prop             251.65    0.00              0.95        yes   \n",
       "same_room                7268.64    0.00              0.95        yes   \n",
       "booking_changed          4197.98    0.00              0.95        yes   \n",
       "deposit                  4197.98    0.00              0.95        yes   \n",
       "waiting_list                6.25    0.01              0.95        yes   \n",
       "special_requests            5.03    0.02              0.95        yes   \n",
       "\n",
       "                 Include?           Correlation  \\\n",
       "hotel_type            yes                  0.14   \n",
       "leadtime              yes                  0.29   \n",
       "children              yes                 -0.01   \n",
       "previous_guest        yes                 -0.07   \n",
       "canceled_before       yes                  0.27   \n",
       "canceled_prop         yes                  0.82   \n",
       "same_room             yes                 -0.25   \n",
       "booking_changed       yes                 -0.14   \n",
       "deposit               yes  (-0.48, 0.48, -0.01)   \n",
       "waiting_list          yes              0.053846   \n",
       "special_requests      yes             -0.235593   \n",
       "\n",
       "                                                   1          Coefficient  \\\n",
       "hotel_type                                City Hotel                 0.62   \n",
       "leadtime                                                             0.01   \n",
       "children                               With Children                 -0.1   \n",
       "previous_guest                        Previous Guest                -1.15   \n",
       "canceled_before                             Canceled                 3.05   \n",
       "canceled_prop                               Canceled                 5.99   \n",
       "same_room                               Changed Room                -2.53   \n",
       "booking_changed                                                     -0.73   \n",
       "deposit           No Deposit, Non Refund, Refundable  (-1.9, 4.04, -2.14)   \n",
       "waiting_list                                                         0.01   \n",
       "special_requests                                                    -0.74   \n",
       "\n",
       "                  Intercept  Accuracy  \n",
       "hotel_type            -0.95      0.63  \n",
       "leadtime              -1.16      0.66  \n",
       "children              -0.52      0.63  \n",
       "previous_guest        -0.50      0.63  \n",
       "canceled_before       -0.66      0.67  \n",
       "canceled_prop         -3.40      0.95  \n",
       "same_room             -0.34      0.63  \n",
       "booking_changed       -0.40      0.63  \n",
       "deposit                0.98      0.75  \n",
       "waiting_list          -0.54      0.63  \n",
       "special_requests      -0.16      0.63  "
      ]
     },
     "execution_count": 101,
     "metadata": {},
     "output_type": "execute_result"
    }
   ],
   "source": [
    "round_df(df)"
   ]
  },
  {
   "cell_type": "code",
   "execution_count": 102,
   "id": "e66acbb3",
   "metadata": {},
   "outputs": [],
   "source": [
    "df.to_excel('summary_table.xlsx', index=False)"
   ]
  }
 ],
 "metadata": {
  "kernelspec": {
   "display_name": "Python 3 (ipykernel)",
   "language": "python",
   "name": "python3"
  },
  "language_info": {
   "codemirror_mode": {
    "name": "ipython",
    "version": 3
   },
   "file_extension": ".py",
   "mimetype": "text/x-python",
   "name": "python",
   "nbconvert_exporter": "python",
   "pygments_lexer": "ipython3",
   "version": "3.9.13"
  }
 },
 "nbformat": 4,
 "nbformat_minor": 5
}
